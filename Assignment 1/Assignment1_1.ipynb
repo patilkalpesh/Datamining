{
  "nbformat": 4,
  "nbformat_minor": 0,
  "metadata": {
    "colab": {
      "provenance": []
    },
    "kernelspec": {
      "name": "python3",
      "display_name": "Python 3"
    },
    "language_info": {
      "name": "python"
    }
  },
  "cells": [
    {
      "cell_type": "code",
      "execution_count": null,
      "metadata": {
        "colab": {
          "base_uri": "https://localhost:8080/"
        },
        "id": "C2Pdgkn8cmS1",
        "outputId": "c52bb79b-3e2c-4d4f-b578-339152bbb42e"
      },
      "outputs": [
        {
          "output_type": "stream",
          "name": "stdout",
          "text": [
            "Hello\n"
          ]
        }
      ],
      "source": [
        "print(\"Hello\")"
      ]
    },
    {
      "cell_type": "code",
      "source": [
        "name = \"Kalpesh Patil\""
      ],
      "metadata": {
        "id": "lAD5N6kpcoia"
      },
      "execution_count": null,
      "outputs": []
    },
    {
      "cell_type": "code",
      "source": [
        "print(name)"
      ],
      "metadata": {
        "colab": {
          "base_uri": "https://localhost:8080/"
        },
        "id": "YiYzoBOwcwKk",
        "outputId": "d6d4d37a-5cae-4509-ff72-5cd31de93bca"
      },
      "execution_count": null,
      "outputs": [
        {
          "output_type": "stream",
          "name": "stdout",
          "text": [
            "Kalpesh Patil\n"
          ]
        }
      ]
    },
    {
      "cell_type": "code",
      "source": [
        "oneliner_string = \"One liner\"\n",
        "\n",
        "multiline_string = '''I am a string with more than\n",
        "one line'''\n",
        "\n",
        "print(multiline_string)\n",
        "print(oneliner_string)\n"
      ],
      "metadata": {
        "colab": {
          "base_uri": "https://localhost:8080/"
        },
        "id": "5nlS_h4acx2d",
        "outputId": "e704819a-ed39-429c-e3a0-5f3583886469"
      },
      "execution_count": null,
      "outputs": [
        {
          "output_type": "stream",
          "name": "stdout",
          "text": [
            "I am a string with more than \n",
            "one line\n",
            "One liner\n"
          ]
        }
      ]
    },
    {
      "cell_type": "code",
      "source": [
        "print(multiline_string,end=\"\")\n",
        "print(oneliner_string)"
      ],
      "metadata": {
        "colab": {
          "base_uri": "https://localhost:8080/"
        },
        "id": "D5Qee172dWDV",
        "outputId": "ab8fdd04-a4ed-42b0-eebf-061682854a36"
      },
      "execution_count": null,
      "outputs": [
        {
          "output_type": "stream",
          "name": "stdout",
          "text": [
            "I am a string with more than \n",
            "one lineOne liner\n"
          ]
        }
      ]
    },
    {
      "cell_type": "code",
      "source": [
        "name = \"Kalpesh\"\n",
        "course = \"DM\"\n",
        "\n",
        "print(\"I am %s and my course is %s\" %(name,course))"
      ],
      "metadata": {
        "colab": {
          "base_uri": "https://localhost:8080/"
        },
        "id": "mW9CYAIBdjeH",
        "outputId": "d6f06aad-1c0f-4243-87b6-8524647f07d3"
      },
      "execution_count": null,
      "outputs": [
        {
          "output_type": "stream",
          "name": "stdout",
          "text": [
            "I am Kalpesh and my course is DM\n"
          ]
        }
      ]
    },
    {
      "cell_type": "code",
      "source": [
        "# Lists\n",
        "\n",
        "print('\\n') # Prints new line\n",
        "stationary = [\"Pen\",\"Pencil\",\"Eraser\"]\n",
        "university = [\"Upenn\",\"Sjsu\"]\n",
        "\n",
        "print(stationary[1:2]) #Index 1 is included and 2 is excluded"
      ],
      "metadata": {
        "colab": {
          "base_uri": "https://localhost:8080/"
        },
        "id": "rMqiyhGHenny",
        "outputId": "b35e3eb4-c9b8-4cf6-9928-a7465a399378"
      },
      "execution_count": null,
      "outputs": [
        {
          "output_type": "stream",
          "name": "stdout",
          "text": [
            "\n",
            "\n",
            "['Pencil']\n",
            "['Pen', 'Pencil', 'Eraser']\n"
          ]
        }
      ]
    },
    {
      "cell_type": "code",
      "source": [
        "new_list = [university,stationary]\n",
        "print(new_list)"
      ],
      "metadata": {
        "colab": {
          "base_uri": "https://localhost:8080/"
        },
        "id": "e6UODFITe42z",
        "outputId": "30297a3e-bebc-46ce-81c1-167a6d7a314e"
      },
      "execution_count": null,
      "outputs": [
        {
          "output_type": "stream",
          "name": "stdout",
          "text": [
            "[['Upenn', 'Sjsu'], ['Pen', 'Pencil', 'Eraser']]\n",
            "['Pen', 'Pencil', 'Eraser']\n"
          ]
        }
      ]
    },
    {
      "cell_type": "code",
      "source": [
        "print(\"Stationary => \",stationary,'\\n')\n",
        "\n",
        "stationary.append(\"Watch\")\n",
        "stationary.insert(0,\"Mouse\")\n",
        "\n",
        "print(\"Added Watch & Mouse => \",stationary)\n",
        "\n",
        "stationary.remove(\"Watch\")\n",
        "del stationary[0] # delete using index\n",
        "\n",
        "print(\"Removed Watch & Mouse => \",stationary)\n",
        "\n",
        "stationary.sort()\n",
        "\n",
        "print(\"Sorted =>\", stationary)\n",
        "\n",
        "stationary.reverse()\n",
        "\n",
        "print(\"Reversed =>\", stationary)\n"
      ],
      "metadata": {
        "colab": {
          "base_uri": "https://localhost:8080/"
        },
        "id": "sWp2L27AfSFK",
        "outputId": "24f4b161-0b81-4e1c-b83f-aec10f02d576"
      },
      "execution_count": null,
      "outputs": [
        {
          "output_type": "stream",
          "name": "stdout",
          "text": [
            "Stationary =>  ['Pencil', 'Pen', 'Eraser'] \n",
            "\n",
            "Added Watch & Mouse =>  ['Mouse', 'Pencil', 'Pen', 'Eraser', 'Watch']\n",
            "Removed Watch & Mouse =>  ['Pencil', 'Pen', 'Eraser']\n",
            "Sorted => ['Eraser', 'Pen', 'Pencil']\n",
            "Reversed => ['Pencil', 'Pen', 'Eraser']\n"
          ]
        }
      ]
    },
    {
      "cell_type": "code",
      "source": [
        "print(\"Length =\",len(stationary))\n",
        "print(\"Maximum =\",max(stationary))\n",
        "print(\"Mininmum =\",min(stationary))"
      ],
      "metadata": {
        "colab": {
          "base_uri": "https://localhost:8080/"
        },
        "id": "6ZzEvW2xhwtz",
        "outputId": "10d356f3-af6e-452f-e4f5-d3fd98b37748"
      },
      "execution_count": null,
      "outputs": [
        {
          "output_type": "stream",
          "name": "stdout",
          "text": [
            "Length = 3\n",
            "Maximum = Pencil\n",
            "Mininmum = Eraser\n"
          ]
        }
      ]
    },
    {
      "cell_type": "code",
      "source": [
        "# Tuples\n",
        "\n",
        "new_tuple = (1,2,3)\n",
        "print(new_tuple, end=\"\")\n",
        "\n",
        "print(\" Length =\",len(new_tuple), \"Max =\",max(new_tuple), \"Min =\",min(new_tuple))\n",
        "\n",
        "tuple_list = list(new_tuple)\n",
        "print(tuple_list)"
      ],
      "metadata": {
        "colab": {
          "base_uri": "https://localhost:8080/"
        },
        "id": "slDqUcR1h9jN",
        "outputId": "eb45d36d-4df2-4ceb-c9b4-e7c437e2e376"
      },
      "execution_count": null,
      "outputs": [
        {
          "output_type": "stream",
          "name": "stdout",
          "text": [
            "(1, 2, 3) Length = 3 Max = 3 Min = 1\n",
            "[1, 2, 3]\n"
          ]
        }
      ]
    },
    {
      "cell_type": "code",
      "source": [
        "# Loops\n",
        "\n",
        "for x in range(0,10):\n",
        "    print(x, end=\" \")\n",
        "\n",
        "for x in [2,4,6,8,10]:\n",
        "    print(x)\n"
      ],
      "metadata": {
        "colab": {
          "base_uri": "https://localhost:8080/"
        },
        "id": "ckmBXP8hHL_i",
        "outputId": "09818bfa-26f6-42ed-8a65-d871f97462c7"
      },
      "execution_count": null,
      "outputs": [
        {
          "output_type": "stream",
          "name": "stdout",
          "text": [
            "0 1 2 3 4 5 6 7 8 9 2\n",
            "4\n",
            "6\n",
            "8\n",
            "10\n"
          ]
        }
      ]
    },
    {
      "cell_type": "code",
      "source": [
        "# while loops\n",
        "\n",
        "import random\n",
        "\n",
        "rand=random.randrange(0,20)\n",
        "\n",
        "while(rand!=5):\n",
        "  print(rand, end=\" \")\n",
        "  rand=random.randrange(0,20)"
      ],
      "metadata": {
        "colab": {
          "base_uri": "https://localhost:8080/"
        },
        "id": "ZjDTmKP6H905",
        "outputId": "4b0a3164-9fda-45ff-efc4-751cd151173a"
      },
      "execution_count": null,
      "outputs": [
        {
          "output_type": "stream",
          "name": "stdout",
          "text": [
            "4 3 15 15 11 14 2 0 4 15 16 10 1 2 9 4 15 18 1 14 3 10 6 13 10 8 14 11 1 11 9 "
          ]
        }
      ]
    },
    {
      "cell_type": "code",
      "source": [
        "def add(num1, num2):\n",
        "  sum=num1+num2\n",
        "  return sum\n",
        "\n",
        "print(add(1,2))"
      ],
      "metadata": {
        "colab": {
          "base_uri": "https://localhost:8080/"
        },
        "id": "9eC96rcBIVF9",
        "outputId": "5546e949-803d-405a-c270-3d1cae4255d7"
      },
      "execution_count": null,
      "outputs": [
        {
          "output_type": "stream",
          "name": "stdout",
          "text": [
            "3\n"
          ]
        }
      ]
    },
    {
      "cell_type": "code",
      "source": [
        "print(\"What is your name?\")\n",
        "name=input()\n",
        "print(\"name=\", name)\n"
      ],
      "metadata": {
        "colab": {
          "base_uri": "https://localhost:8080/"
        },
        "id": "YGKf24kSIckU",
        "outputId": "03de0179-81ab-4207-d6be-44a087945a6b"
      },
      "execution_count": null,
      "outputs": [
        {
          "output_type": "stream",
          "name": "stdout",
          "text": [
            "What is your name?\n",
            "Kalpesh\n",
            "name= Kalpesh\n"
          ]
        }
      ]
    },
    {
      "cell_type": "code",
      "source": [
        "# Strings\n",
        "\n",
        "long_str = \"Hey I am Mr. Kalpesh Patil\"\n",
        "print(long_str[0:4])\n",
        "print(long_str[:-5])\n",
        "print(long_str[-5:])\n",
        "\n",
        "print(\"Welcome Mr.%c %s %.2f\" %('X','favourite',1.4))\n",
        "\n",
        "print(long_str.capitalize())\n",
        "print(long_str.find(\"Mr\"))\n",
        "print(long_str.isalpha()) # Check if (a-z)\n",
        "print(long_str.isalnum()) # Check for alphanumeric (a-z) and numbers (0-9)\n",
        "print(long_str.replace(\"Kalpesh\",\"\"))\n",
        "print(long_str.split())"
      ],
      "metadata": {
        "colab": {
          "base_uri": "https://localhost:8080/"
        },
        "id": "bZNsDNj-h_zg",
        "outputId": "6f0f8fc8-b863-42cd-878f-460a486a668f"
      },
      "execution_count": null,
      "outputs": [
        {
          "output_type": "stream",
          "name": "stdout",
          "text": [
            "Hey \n",
            "Hey I am Mr. Kalpesh \n",
            "Patil\n",
            "Welcome Mr.X favourite 1.40\n",
            "Hey i am mr. kalpesh patil\n",
            "9\n",
            "False\n",
            "False\n",
            "Hey I am Mr.  Patil\n",
            "['Hey', 'I', 'am', 'Mr.', 'Kalpesh', 'Patil']\n"
          ]
        }
      ]
    },
    {
      "cell_type": "code",
      "source": [
        "import os\n",
        "file=open(\"test.txt\", \"wb\")\n",
        "print(file.mode)\n",
        "print(file.name)\n",
        "file.write(bytes(\"Writing to the file\\n\", 'UTF-8'))\n",
        "file.close()\n",
        "\n",
        "file=open(\"test.txt\",\"r+\")\n",
        "text=file.read()\n",
        "print(text)\n",
        "\n",
        "# os.remove(\"test.txt\")\n"
      ],
      "metadata": {
        "colab": {
          "base_uri": "https://localhost:8080/"
        },
        "id": "Qbi2ILb_Hapn",
        "outputId": "6c091092-e20d-419d-ec62-901523d8544c"
      },
      "execution_count": null,
      "outputs": [
        {
          "output_type": "stream",
          "name": "stdout",
          "text": [
            "wb\n",
            "test.txt\n",
            "Writing to the file\n",
            "\n"
          ]
        }
      ]
    },
    {
      "cell_type": "code",
      "source": [
        "class Employee:\n",
        "  __name=0\n",
        "  __id=0\n",
        "\n",
        "  def __init__(self, name, id):\n",
        "    self.__name=name\n",
        "    self.__id=id\n",
        "\n",
        "  def get_name(self):\n",
        "    return self.__name\n",
        "\n",
        "  def set_name(self,name):\n",
        "    self.__name=name\n",
        "\n",
        "  def get_id(self):\n",
        "    return self.__id\n",
        "\n",
        "  def set_id(self, id):\n",
        "    self._id=id\n",
        "\n",
        "  def get_type(self):\n",
        "    print(\"Employee\")\n",
        "\n",
        "  def print(self):\n",
        "    return \"Id = {} for Employee {}\".format(self.__id,self.__name)\n",
        "\n",
        "employee=Employee('Kalpesh',478)\n",
        "print(employee.get_name())\n",
        "employee.set_name('Ram')\n",
        "print(employee.get_name())\n",
        "print(employee.print())\n",
        "\n",
        "\n",
        "class Manager(Employee):\n",
        "  __dept=\"\"\n",
        "\n",
        "  def __init__(self, name, id, dept):\n",
        "    self.__dept=dept\n",
        "    super(Manager, self).__init__(name, id)\n",
        "\n",
        "  def set_dept(self, dept):\n",
        "    self.__dept=dept\n",
        "\n",
        "  def get_dept(self):\n",
        "    return self.__dept\n",
        "\n",
        "  def get_type(self):\n",
        "    print(\"Manager\")\n",
        "\n",
        "  def print(self):\n",
        "    return \"Id = {} for employee {} with department {}\".format(self.get_id(),self.get_name(), self.__dept)\n",
        "\n",
        "manager=Manager(\"Kalpesh\", 500, \"Tester\");\n",
        "print(manager.print())\n",
        "\n",
        "class Organization:\n",
        "  def get_type(self, student):\n",
        "    student.get_type()\n",
        "\n",
        "obj1=Organization()\n",
        "obj1.get_type(employee)\n",
        "obj1.get_type(manager)"
      ],
      "metadata": {
        "colab": {
          "base_uri": "https://localhost:8080/"
        },
        "id": "9FVo8pNuIlgG",
        "outputId": "e4597401-c363-4fe3-839b-7874604a7afa"
      },
      "execution_count": null,
      "outputs": [
        {
          "output_type": "stream",
          "name": "stdout",
          "text": [
            "Kalpesh\n",
            "Ram\n",
            "Id = 478 for Employee Ram\n",
            "Id = 500 for employee Kalpesh with department Tester\n",
            "employee\n",
            "Manager\n"
          ]
        }
      ]
    },
    {
      "cell_type": "code",
      "source": [
        "#Advanced Colab"
      ],
      "metadata": {
        "id": "2mP34mM4Iqn3"
      },
      "execution_count": null,
      "outputs": []
    },
    {
      "cell_type": "code",
      "source": [
        "# Wget to download\n",
        "!wget https://github.com/prasertcbs/basic-dataset/blob/master/Tokyo2020/Coaches.xlsx"
      ],
      "metadata": {
        "colab": {
          "base_uri": "https://localhost:8080/"
        },
        "id": "dY1vtJp1RMG0",
        "outputId": "dc584a7f-e364-48e7-dd39-bad65d655a97"
      },
      "execution_count": null,
      "outputs": [
        {
          "output_type": "stream",
          "name": "stdout",
          "text": [
            "--2024-09-08 07:14:08--  https://github.com/prasertcbs/basic-dataset/blob/master/Tokyo2020/Coaches.xlsx\n",
            "Resolving github.com (github.com)... 140.82.114.4\n",
            "Connecting to github.com (github.com)|140.82.114.4|:443... connected.\n",
            "HTTP request sent, awaiting response... 200 OK\n",
            "Length: unspecified [text/html]\n",
            "Saving to: ‘Coaches.xlsx’\n",
            "\n",
            "Coaches.xlsx            [ <=>                ] 336.10K  --.-KB/s    in 0.05s   \n",
            "\n",
            "2024-09-08 07:14:09 (6.51 MB/s) - ‘Coaches.xlsx’ saved [344162]\n",
            "\n"
          ]
        }
      ]
    },
    {
      "cell_type": "code",
      "source": [
        "# connect to google drive with mount\n",
        "from google.colab import drive\n",
        "drive.mount('mount')"
      ],
      "metadata": {
        "colab": {
          "base_uri": "https://localhost:8080/"
        },
        "id": "lRGQY1UlRNSg",
        "outputId": "df97d2d7-8a6b-41f7-f8f4-b3bc21edac81"
      },
      "execution_count": null,
      "outputs": [
        {
          "output_type": "stream",
          "name": "stdout",
          "text": [
            "Drive already mounted at mount; to attempt to forcibly remount, call drive.mount(\"mount\", force_remount=True).\n"
          ]
        }
      ]
    },
    {
      "cell_type": "code",
      "source": [
        "# copy a file from My Drive to current directory\n",
        "!cp mount/My\\ Drive/dataset.json  ."
      ],
      "metadata": {
        "id": "fXJobezyfD4s"
      },
      "execution_count": null,
      "outputs": []
    },
    {
      "cell_type": "code",
      "source": [
        "# download a public file african_soil_train_data.zip\n",
        "!gdown  --id  1Y14zAuKEPHzK72bNjnom3w1bu5GHBlZ4"
      ],
      "metadata": {
        "colab": {
          "base_uri": "https://localhost:8080/"
        },
        "id": "_A8IZhHEfOUw",
        "outputId": "604f1c8b-c20b-486d-e73d-a93cc7599d8a"
      },
      "execution_count": null,
      "outputs": [
        {
          "output_type": "stream",
          "name": "stdout",
          "text": [
            "/usr/local/lib/python3.10/dist-packages/gdown/__main__.py:132: FutureWarning: Option `--id` was deprecated in version 4.3.1 and will be removed in 5.0. You don't need to pass it anymore to use a file ID.\n",
            "  warnings.warn(\n",
            "Downloading...\n",
            "From: https://drive.google.com/uc?id=1Y14zAuKEPHzK72bNjnom3w1bu5GHBlZ4\n",
            "To: /content/africa_soil_train_data.zip\n",
            "100% 13.3M/13.3M [00:00<00:00, 119MB/s]\n"
          ]
        }
      ]
    },
    {
      "cell_type": "code",
      "source": [
        "!ls -al *.zip"
      ],
      "metadata": {
        "colab": {
          "base_uri": "https://localhost:8080/"
        },
        "id": "fSdvDs-_innC",
        "outputId": "f019265d-3cc0-4a72-b5ee-c71354bf8777"
      },
      "execution_count": null,
      "outputs": [
        {
          "output_type": "stream",
          "name": "stdout",
          "text": [
            "-rw-r--r-- 1 root root 13282982 Sep  8 07:35 africa_soil_train_data.zip\n"
          ]
        }
      ]
    },
    {
      "cell_type": "code",
      "source": [
        "# authenticate (another one)\n",
        "from google.colab import auth\n",
        "auth.authenticate_user()"
      ],
      "metadata": {
        "id": "Uxv2ZuFokISZ"
      },
      "execution_count": null,
      "outputs": []
    },
    {
      "cell_type": "code",
      "source": [
        "# Download this folder\n",
        "folder_id=\"1HvIeNhqtFVllXFWzH5NawDdnIfgGDwCK\""
      ],
      "metadata": {
        "id": "Q-cgQuIVkT3_"
      },
      "execution_count": null,
      "outputs": []
    },
    {
      "cell_type": "code",
      "source": [
        "'''list all ids of files directly under folder folder_id'''\n",
        "def folder_list(folder_id):\n",
        "  from googleapiclient.discovery import build\n",
        "  gdrive = build('drive', 'v3').files()\n",
        "  res = gdrive.list(q=\"'%s' in parents\" % folder_id).execute()\n",
        "  return [f['id'] for f in res['files']]"
      ],
      "metadata": {
        "id": "t1ywGvpTkYZF"
      },
      "execution_count": null,
      "outputs": []
    },
    {
      "cell_type": "code",
      "source": [
        "folder_list(folder_id)"
      ],
      "metadata": {
        "colab": {
          "base_uri": "https://localhost:8080/"
        },
        "id": "zxhUt1Aqkbqt",
        "outputId": "2b33891a-ce57-4f72-b757-4fe6544a0fc6"
      },
      "execution_count": null,
      "outputs": [
        {
          "output_type": "execute_result",
          "data": {
            "text/plain": [
              "['1MJGCY0uhkwxoBpSXAYWk6WKHUAYMxGlQ',\n",
              " '1KgSEm4A7hCov2Ta6-CZldqT-9JgtiVRI',\n",
              " '16wxQwBvzMUTK5PYdakkaVFV-F38vi7RK',\n",
              " '1LuB1aplL2cl-Hs_BFdZgPoDcCnNsGJBa',\n",
              " '11mzTo7aWTeCs4TSPqKQKbYDl9xIxBISQ',\n",
              " '1VgAS5dGP2ub4G_PJ_4YwEXjEiDhqyiyt',\n",
              " '17duniZO_R7p3eTIkMzSRbNpHdQjonAMQ',\n",
              " '12oSVL5pFxe-DqVk5GWjBYHxbi9gGGYha',\n",
              " '1QKUWh62qzaOIBebJY0IkcAxqHCEaeYo1',\n",
              " '1QEMMVAAsA93qrlXhVxjFH4wbLiU6R6Ds',\n",
              " '18SYApxloSMwaSgnOILkOm7FjOVaFH6DH',\n",
              " '1jAg2oODTyVZvHvDwEdQhmxsnQWG-cbLH',\n",
              " '1toORa_XzdSj4UNMYSyeVmEgEniMot9PJ',\n",
              " '1aHDIvbB6MKZTxIfZgAeU8WzN6JIsGrPa']"
            ]
          },
          "metadata": {},
          "execution_count": 26
        }
      ]
    },
    {
      "cell_type": "code",
      "source": [
        "# download them one by one, notice  !gdown in the loop\n",
        "def folder_download(folder_id):\n",
        "  for fid in folder_list(folder_id):\n",
        "    !gdown -q $fid"
      ],
      "metadata": {
        "id": "kGJx0ApIln27"
      },
      "execution_count": null,
      "outputs": []
    },
    {
      "cell_type": "code",
      "source": [
        "folder_download(folder_id)"
      ],
      "metadata": {
        "id": "jFFdWiyQloRB"
      },
      "execution_count": null,
      "outputs": []
    },
    {
      "cell_type": "code",
      "source": [
        "# conda\n",
        "!wget -c https://repo.continuum.io/archive/Anaconda3-5.2.0-Linux-x86_64.sh\n",
        "!chmod +x Anaconda3-5.2.0-Linux-x86_64.sh\n",
        "!bash ./Anaconda3-5.2.0-Linux-x86_64.sh -b -f -p /usr/local"
      ],
      "metadata": {
        "colab": {
          "base_uri": "https://localhost:8080/"
        },
        "id": "QnaAOptemKjx",
        "outputId": "f271338a-df0a-408e-8f37-9d6ae4e13d1f"
      },
      "execution_count": 105,
      "outputs": [
        {
          "output_type": "stream",
          "name": "stdout",
          "text": [
            "--2024-09-08 08:34:13--  https://repo.continuum.io/archive/Anaconda3-5.2.0-Linux-x86_64.sh\n",
            "Resolving repo.continuum.io (repo.continuum.io)... 104.18.176.84, 104.18.177.84, 2606:4700::6812:b054, ...\n",
            "Connecting to repo.continuum.io (repo.continuum.io)|104.18.176.84|:443... connected.\n",
            "HTTP request sent, awaiting response... 301 Moved Permanently\n",
            "Location: https://repo.anaconda.com/archive/Anaconda3-5.2.0-Linux-x86_64.sh [following]\n",
            "--2024-09-08 08:34:13--  https://repo.anaconda.com/archive/Anaconda3-5.2.0-Linux-x86_64.sh\n",
            "Resolving repo.anaconda.com (repo.anaconda.com)... 104.16.191.158, 104.16.32.241, 2606:4700::6810:20f1, ...\n",
            "Connecting to repo.anaconda.com (repo.anaconda.com)|104.16.191.158|:443... connected.\n",
            "HTTP request sent, awaiting response... 416 Requested Range Not Satisfiable\n",
            "\n",
            "    The file is already fully retrieved; nothing to do.\n",
            "\n",
            "PREFIX=/usr/local\n",
            "installing: python-3.6.5-hc3d631a_2 ...\n",
            "Python 3.6.5 :: Anaconda, Inc.\n",
            "installing: blas-1.0-mkl ...\n",
            "installing: ca-certificates-2018.03.07-0 ...\n",
            "installing: conda-env-2.6.0-h36134e3_1 ...\n",
            "installing: intel-openmp-2018.0.0-8 ...\n",
            "installing: libgcc-ng-7.2.0-hdf63c60_3 ...\n",
            "installing: libgfortran-ng-7.2.0-hdf63c60_3 ...\n",
            "installing: libstdcxx-ng-7.2.0-hdf63c60_3 ...\n",
            "installing: bzip2-1.0.6-h14c3975_5 ...\n",
            "installing: expat-2.2.5-he0dffb1_0 ...\n",
            "installing: gmp-6.1.2-h6c8ec71_1 ...\n",
            "installing: graphite2-1.3.11-h16798f4_2 ...\n",
            "installing: icu-58.2-h9c2bf20_1 ...\n",
            "installing: jbig-2.1-hdba287a_0 ...\n",
            "installing: jpeg-9b-h024ee3a_2 ...\n",
            "installing: libffi-3.2.1-hd88cf55_4 ...\n",
            "installing: libsodium-1.0.16-h1bed415_0 ...\n",
            "installing: libtool-2.4.6-h544aabb_3 ...\n",
            "installing: libxcb-1.13-h1bed415_1 ...\n",
            "installing: lzo-2.10-h49e0be7_2 ...\n",
            "installing: mkl-2018.0.2-1 ...\n",
            "installing: ncurses-6.1-hf484d3e_0 ...\n",
            "installing: openssl-1.0.2o-h20670df_0 ...\n",
            "installing: patchelf-0.9-hf79760b_2 ...\n",
            "installing: pcre-8.42-h439df22_0 ...\n",
            "installing: pixman-0.34.0-hceecf20_3 ...\n",
            "installing: snappy-1.1.7-hbae5bb6_3 ...\n",
            "installing: tk-8.6.7-hc745277_3 ...\n",
            "installing: unixodbc-2.3.6-h1bed415_0 ...\n",
            "installing: xz-5.2.4-h14c3975_4 ...\n",
            "installing: yaml-0.1.7-had09818_2 ...\n",
            "installing: zlib-1.2.11-ha838bed_2 ...\n",
            "installing: blosc-1.14.3-hdbcaa40_0 ...\n",
            "installing: glib-2.56.1-h000015b_0 ...\n",
            "installing: hdf5-1.10.2-hba1933b_1 ...\n",
            "installing: libedit-3.1.20170329-h6b74fdf_2 ...\n",
            "installing: libpng-1.6.34-hb9fc6fc_0 ...\n",
            "installing: libssh2-1.8.0-h9cfc8f7_4 ...\n",
            "installing: libtiff-4.0.9-he85c1e1_1 ...\n",
            "installing: libxml2-2.9.8-h26e45fe_1 ...\n",
            "installing: mpfr-3.1.5-h11a74b3_2 ...\n",
            "installing: pandoc-1.19.2.1-hea2e7c5_1 ...\n",
            "installing: readline-7.0-ha6073c6_4 ...\n",
            "installing: zeromq-4.2.5-h439df22_0 ...\n",
            "installing: dbus-1.13.2-h714fa37_1 ...\n",
            "installing: freetype-2.8-hab7d2ae_1 ...\n",
            "installing: gstreamer-1.14.0-hb453b48_1 ...\n",
            "installing: libcurl-7.60.0-h1ad7b7a_0 ...\n",
            "installing: libxslt-1.1.32-h1312cb7_0 ...\n",
            "installing: mpc-1.0.3-hec55b23_5 ...\n",
            "installing: sqlite-3.23.1-he433501_0 ...\n",
            "installing: curl-7.60.0-h84994c4_0 ...\n",
            "installing: fontconfig-2.12.6-h49f89f6_0 ...\n",
            "installing: gst-plugins-base-1.14.0-hbbd80ab_1 ...\n",
            "installing: alabaster-0.7.10-py36h306e16b_0 ...\n",
            "installing: asn1crypto-0.24.0-py36_0 ...\n",
            "installing: attrs-18.1.0-py36_0 ...\n",
            "installing: backcall-0.1.0-py36_0 ...\n",
            "installing: backports-1.0-py36hfa02d7e_1 ...\n",
            "installing: beautifulsoup4-4.6.0-py36h49b8c8c_1 ...\n",
            "installing: bitarray-0.8.1-py36h14c3975_1 ...\n",
            "installing: boto-2.48.0-py36h6e4cd66_1 ...\n",
            "installing: cairo-1.14.12-h7636065_2 ...\n",
            "installing: certifi-2018.4.16-py36_0 ...\n",
            "installing: chardet-3.0.4-py36h0f667ec_1 ...\n",
            "installing: click-6.7-py36h5253387_0 ...\n",
            "installing: cloudpickle-0.5.3-py36_0 ...\n",
            "installing: colorama-0.3.9-py36h489cec4_0 ...\n",
            "installing: contextlib2-0.5.5-py36h6c84a62_0 ...\n",
            "installing: dask-core-0.17.5-py36_0 ...\n",
            "installing: decorator-4.3.0-py36_0 ...\n",
            "installing: docutils-0.14-py36hb0f60f5_0 ...\n",
            "installing: entrypoints-0.2.3-py36h1aec115_2 ...\n",
            "installing: et_xmlfile-1.0.1-py36hd6bccc3_0 ...\n",
            "installing: fastcache-1.0.2-py36h14c3975_2 ...\n",
            "installing: filelock-3.0.4-py36_0 ...\n",
            "installing: glob2-0.6-py36he249c77_0 ...\n",
            "installing: gmpy2-2.0.8-py36hc8893dd_2 ...\n",
            "installing: greenlet-0.4.13-py36h14c3975_0 ...\n",
            "installing: heapdict-1.0.0-py36_2 ...\n",
            "installing: idna-2.6-py36h82fb2a8_1 ...\n",
            "installing: imagesize-1.0.0-py36_0 ...\n",
            "installing: ipython_genutils-0.2.0-py36hb52b0d5_0 ...\n",
            "installing: itsdangerous-0.24-py36h93cc618_1 ...\n",
            "installing: jdcal-1.4-py36_0 ...\n",
            "installing: kiwisolver-1.0.1-py36h764f252_0 ...\n",
            "installing: lazy-object-proxy-1.3.1-py36h10fcdad_0 ...\n",
            "installing: llvmlite-0.23.1-py36hdbcaa40_0 ...\n",
            "installing: locket-0.2.0-py36h787c0ad_1 ...\n",
            "installing: lxml-4.2.1-py36h23eabaa_0 ...\n",
            "installing: markupsafe-1.0-py36hd9260cd_1 ...\n",
            "installing: mccabe-0.6.1-py36h5ad9710_1 ...\n",
            "installing: mistune-0.8.3-py36h14c3975_1 ...\n",
            "installing: mkl-service-1.1.2-py36h17a0993_4 ...\n",
            "installing: mpmath-1.0.0-py36hfeacd6b_2 ...\n",
            "installing: msgpack-python-0.5.6-py36h6bb024c_0 ...\n",
            "installing: multipledispatch-0.5.0-py36_0 ...\n",
            "installing: numpy-base-1.14.3-py36h9be14a7_1 ...\n",
            "installing: olefile-0.45.1-py36_0 ...\n",
            "installing: pandocfilters-1.4.2-py36ha6701b7_1 ...\n",
            "installing: parso-0.2.0-py36_0 ...\n",
            "installing: path.py-11.0.1-py36_0 ...\n",
            "installing: pep8-1.7.1-py36_0 ...\n",
            "installing: pickleshare-0.7.4-py36h63277f8_0 ...\n",
            "installing: pkginfo-1.4.2-py36_1 ...\n",
            "installing: pluggy-0.6.0-py36hb689045_0 ...\n",
            "installing: ply-3.11-py36_0 ...\n",
            "installing: psutil-5.4.5-py36h14c3975_0 ...\n",
            "installing: ptyprocess-0.5.2-py36h69acd42_0 ...\n",
            "installing: py-1.5.3-py36_0 ...\n",
            "installing: pycodestyle-2.4.0-py36_0 ...\n",
            "installing: pycosat-0.6.3-py36h0a5515d_0 ...\n",
            "installing: pycparser-2.18-py36hf9f622e_1 ...\n",
            "installing: pycrypto-2.6.1-py36h14c3975_8 ...\n",
            "installing: pycurl-7.43.0.1-py36hb7f436b_0 ...\n",
            "installing: pyodbc-4.0.23-py36hf484d3e_0 ...\n",
            "installing: pyparsing-2.2.0-py36hee85983_1 ...\n",
            "installing: pysocks-1.6.8-py36_0 ...\n",
            "installing: pytz-2018.4-py36_0 ...\n",
            "installing: pyyaml-3.12-py36hafb9ca4_1 ...\n",
            "installing: pyzmq-17.0.0-py36h14c3975_0 ...\n",
            "installing: qt-5.9.5-h7e424d6_0 ...\n",
            "installing: qtpy-1.4.1-py36_0 ...\n",
            "installing: rope-0.10.7-py36h147e2ec_0 ...\n",
            "installing: ruamel_yaml-0.15.35-py36h14c3975_1 ...\n",
            "installing: send2trash-1.5.0-py36_0 ...\n",
            "installing: simplegeneric-0.8.1-py36_2 ...\n",
            "installing: sip-4.19.8-py36hf484d3e_0 ...\n",
            "installing: six-1.11.0-py36h372c433_1 ...\n",
            "installing: snowballstemmer-1.2.1-py36h6febd40_0 ...\n",
            "installing: sortedcontainers-1.5.10-py36_0 ...\n",
            "installing: sphinxcontrib-1.0-py36h6d0f590_1 ...\n",
            "installing: sqlalchemy-1.2.7-py36h6b74fdf_0 ...\n",
            "installing: tblib-1.3.2-py36h34cf8b6_0 ...\n",
            "installing: testpath-0.3.1-py36h8cadb63_0 ...\n",
            "installing: toolz-0.9.0-py36_0 ...\n",
            "installing: tornado-5.0.2-py36_0 ...\n",
            "installing: typing-3.6.4-py36_0 ...\n",
            "installing: unicodecsv-0.14.1-py36ha668878_0 ...\n",
            "installing: wcwidth-0.1.7-py36hdf4376a_0 ...\n",
            "installing: webencodings-0.5.1-py36h800622e_1 ...\n",
            "installing: werkzeug-0.14.1-py36_0 ...\n",
            "installing: wrapt-1.10.11-py36h28b7045_0 ...\n",
            "installing: xlrd-1.1.0-py36h1db9f0c_1 ...\n",
            "installing: xlsxwriter-1.0.4-py36_0 ...\n",
            "installing: xlwt-1.3.0-py36h7b00a1f_0 ...\n",
            "installing: babel-2.5.3-py36_0 ...\n",
            "installing: backports.shutil_get_terminal_size-1.0.0-py36hfea85ff_2 ...\n",
            "installing: cffi-1.11.5-py36h9745a5d_0 ...\n",
            "installing: conda-verify-2.0.0-py36h98955d8_0 ...\n",
            "installing: cycler-0.10.0-py36h93f1223_0 ...\n",
            "installing: cytoolz-0.9.0.1-py36h14c3975_0 ...\n",
            "installing: harfbuzz-1.7.6-h5f0a787_1 ...\n",
            "installing: html5lib-1.0.1-py36h2f9c1c0_0 ...\n",
            "installing: jedi-0.12.0-py36_1 ...\n",
            "installing: more-itertools-4.1.0-py36_0 ...\n",
            "installing: networkx-2.1-py36_0 ...\n",
            "installing: nltk-3.3.0-py36_0 ...\n",
            "installing: openpyxl-2.5.3-py36_0 ...\n",
            "installing: packaging-17.1-py36_0 ...\n",
            "installing: partd-0.3.8-py36h36fd896_0 ...\n",
            "installing: pathlib2-2.3.2-py36_0 ...\n",
            "installing: pexpect-4.5.0-py36_0 ...\n",
            "installing: pillow-5.1.0-py36h3deb7b8_0 ...\n",
            "installing: pyqt-5.9.2-py36h751905a_0 ...\n",
            "installing: python-dateutil-2.7.3-py36_0 ...\n",
            "installing: qtawesome-0.4.4-py36h609ed8c_0 ...\n",
            "installing: setuptools-39.1.0-py36_0 ...\n",
            "installing: singledispatch-3.4.0.3-py36h7a266c3_0 ...\n",
            "installing: sortedcollections-0.6.1-py36_0 ...\n",
            "installing: sphinxcontrib-websupport-1.0.1-py36hb5cb234_1 ...\n",
            "installing: sympy-1.1.1-py36hc6d1c1c_0 ...\n",
            "installing: terminado-0.8.1-py36_1 ...\n",
            "installing: traitlets-4.3.2-py36h674d592_0 ...\n",
            "installing: zict-0.1.3-py36h3a3bf81_0 ...\n",
            "installing: astroid-1.6.3-py36_0 ...\n",
            "installing: bleach-2.1.3-py36_0 ...\n",
            "installing: clyent-1.2.2-py36h7e57e65_1 ...\n",
            "installing: cryptography-2.2.2-py36h14c3975_0 ...\n",
            "installing: cython-0.28.2-py36h14c3975_0 ...\n",
            "installing: distributed-1.21.8-py36_0 ...\n",
            "installing: get_terminal_size-1.0.0-haa9412d_0 ...\n",
            "installing: gevent-1.3.0-py36h14c3975_0 ...\n",
            "installing: isort-4.3.4-py36_0 ...\n",
            "installing: jinja2-2.10-py36ha16c418_0 ...\n",
            "installing: jsonschema-2.6.0-py36h006f8b5_0 ...\n",
            "installing: jupyter_core-4.4.0-py36h7c827e3_0 ...\n",
            "installing: navigator-updater-0.2.1-py36_0 ...\n",
            "installing: nose-1.3.7-py36hcdf7029_2 ...\n",
            "installing: pango-1.41.0-hd475d92_0 ...\n",
            "installing: pyflakes-1.6.0-py36h7bd6a15_0 ...\n",
            "installing: pygments-2.2.0-py36h0d3125c_0 ...\n",
            "installing: pytest-3.5.1-py36_0 ...\n",
            "installing: wheel-0.31.1-py36_0 ...\n",
            "installing: flask-1.0.2-py36_1 ...\n",
            "installing: jupyter_client-5.2.3-py36_0 ...\n",
            "installing: nbformat-4.4.0-py36h31c9010_0 ...\n",
            "installing: pip-10.0.1-py36_0 ...\n",
            "installing: prompt_toolkit-1.0.15-py36h17d85b1_0 ...\n",
            "installing: pylint-1.8.4-py36_0 ...\n",
            "installing: pyopenssl-18.0.0-py36_0 ...\n",
            "installing: pytest-openfiles-0.3.0-py36_0 ...\n",
            "installing: pytest-remotedata-0.2.1-py36_0 ...\n",
            "installing: flask-cors-3.0.4-py36_0 ...\n",
            "installing: ipython-6.4.0-py36_0 ...\n",
            "installing: nbconvert-5.3.1-py36hb41ffb7_0 ...\n",
            "installing: urllib3-1.22-py36hbe7ace6_0 ...\n",
            "installing: ipykernel-4.8.2-py36_0 ...\n",
            "installing: requests-2.18.4-py36he2e5f8d_1 ...\n",
            "installing: anaconda-client-1.6.14-py36_0 ...\n",
            "installing: jupyter_console-5.2.0-py36he59e554_1 ...\n",
            "installing: notebook-5.5.0-py36_0 ...\n",
            "installing: qtconsole-4.3.1-py36h8f73b5b_0 ...\n",
            "installing: sphinx-1.7.4-py36_0 ...\n",
            "installing: anaconda-navigator-1.8.7-py36_0 ...\n",
            "installing: anaconda-project-0.8.2-py36h44fb852_0 ...\n",
            "installing: jupyterlab_launcher-0.10.5-py36_0 ...\n",
            "installing: numpydoc-0.8.0-py36_0 ...\n",
            "installing: widgetsnbextension-3.2.1-py36_0 ...\n",
            "installing: ipywidgets-7.2.1-py36_0 ...\n",
            "installing: jupyterlab-0.32.1-py36_0 ...\n",
            "installing: spyder-3.2.8-py36_0 ...\n",
            "installing: _ipyw_jlab_nb_ext_conf-0.1.0-py36he11e457_0 ...\n",
            "installing: jupyter-1.0.0-py36_4 ...\n",
            "installing: bokeh-0.12.16-py36_0 ...\n",
            "installing: bottleneck-1.2.1-py36haac1ea0_0 ...\n",
            "installing: conda-4.5.4-py36_0 ...\n",
            "installing: conda-build-3.10.5-py36_0 ...\n",
            "installing: datashape-0.5.4-py36h3ad6b5c_0 ...\n",
            "installing: h5py-2.7.1-py36ha1f6525_2 ...\n",
            "installing: imageio-2.3.0-py36_0 ...\n",
            "installing: matplotlib-2.2.2-py36h0e671d2_1 ...\n",
            "installing: mkl_fft-1.0.1-py36h3010b51_0 ...\n",
            "installing: mkl_random-1.0.1-py36h629b387_0 ...\n",
            "installing: numpy-1.14.3-py36hcd700cb_1 ...\n",
            "installing: numba-0.38.0-py36h637b7d7_0 ...\n",
            "installing: numexpr-2.6.5-py36h7bf3b9c_0 ...\n",
            "installing: pandas-0.23.0-py36h637b7d7_0 ...\n",
            "installing: pytest-arraydiff-0.2-py36_0 ...\n",
            "installing: pytest-doctestplus-0.1.3-py36_0 ...\n",
            "installing: pywavelets-0.5.2-py36he602eb0_0 ...\n",
            "installing: scipy-1.1.0-py36hfc37229_0 ...\n",
            "installing: bkcharts-0.2-py36h735825a_0 ...\n",
            "installing: dask-0.17.5-py36_0 ...\n",
            "installing: patsy-0.5.0-py36_0 ...\n",
            "installing: pytables-3.4.3-py36h02b9ad4_2 ...\n",
            "installing: pytest-astropy-0.3.0-py36_0 ...\n",
            "installing: scikit-learn-0.19.1-py36h7aa7ec6_0 ...\n",
            "installing: astropy-3.0.2-py36h3010b51_1 ...\n",
            "installing: odo-0.5.1-py36h90ed295_0 ...\n",
            "installing: scikit-image-0.13.1-py36h14c3975_1 ...\n",
            "installing: statsmodels-0.9.0-py36h3010b51_0 ...\n",
            "installing: blaze-0.11.3-py36h4e06776_0 ...\n",
            "installing: seaborn-0.8.1-py36hfad7ec4_0 ...\n",
            "installing: anaconda-5.2.0-py36_3 ...\n",
            "installation finished.\n",
            "WARNING:\n",
            "    You currently have a PYTHONPATH environment variable set. This may cause\n",
            "    unexpected behavior when running the Python interpreter in Anaconda3.\n",
            "    For best results, please verify that your PYTHONPATH only points to\n",
            "    directories of packages that are compatible with the Python interpreter\n",
            "    in Anaconda3: /usr/local\n"
          ]
        }
      ]
    },
    {
      "cell_type": "code",
      "source": [
        "import sys\n",
        "sys.path.append('/usr/local/lib/python3.8/site-packages/')  # Update to your Python version"
      ],
      "metadata": {
        "id": "a5Ce5uq4yrdX"
      },
      "execution_count": 112,
      "outputs": []
    },
    {
      "cell_type": "code",
      "source": [
        "!python --version"
      ],
      "metadata": {
        "colab": {
          "base_uri": "https://localhost:8080/"
        },
        "id": "lfXQAKDMyw-P",
        "outputId": "79f22111-f0d9-47c1-e63c-9965d09b08d1"
      },
      "execution_count": 125,
      "outputs": [
        {
          "output_type": "stream",
          "name": "stdout",
          "text": [
            "Python 3.6.5 :: Anaconda, Inc.\n"
          ]
        }
      ]
    },
    {
      "cell_type": "code",
      "source": [
        "!conda clean --all\n"
      ],
      "metadata": {
        "colab": {
          "base_uri": "https://localhost:8080/"
        },
        "id": "m4pEbKXKzlp2",
        "outputId": "a880973a-944e-4686-8a72-7ca1b068c805"
      },
      "execution_count": 127,
      "outputs": [
        {
          "output_type": "stream",
          "name": "stdout",
          "text": [
            "Cache location: /usr/local/pkgs\n",
            "Will remove the following tarballs:\n",
            "\n",
            "/usr/local/pkgs\n",
            "---------------\n",
            "six-1.11.0-py36h372c433_1.tar.bz2             21 KB\n",
            "libstdcxx-ng-7.2.0-hdf63c60_3.tar.bz2        2.5 MB\n",
            "astroid-1.6.3-py36_0.tar.bz2                 477 KB\n",
            "alabaster-0.7.10-py36h306e16b_0.tar.bz2       15 KB\n",
            "dask-core-0.17.5-py36_0.tar.bz2              1.0 MB\n",
            "jdcal-1.4-py36_0.tar.bz2                      11 KB\n",
            "blas-1.0-mkl.tar.bz2                           6 KB\n",
            "scikit-image-0.13.1-py36h14c3975_1.tar.bz2    23.0 MB\n",
            "patsy-0.5.0-py36_0.tar.bz2                   322 KB\n",
            "decorator-4.3.0-py36_0.tar.bz2                15 KB\n",
            "et_xmlfile-1.0.1-py36hd6bccc3_0.tar.bz2       20 KB\n",
            "get_terminal_size-1.0.0-haa9412d_0.tar.bz2       3 KB\n",
            "mccabe-0.6.1-py36h5ad9710_1.tar.bz2           13 KB\n",
            "numexpr-2.6.5-py36h7bf3b9c_0.tar.bz2         188 KB\n",
            "flask-cors-3.0.4-py36_0.tar.bz2               21 KB\n",
            "pickleshare-0.7.4-py36h63277f8_0.tar.bz2      11 KB\n",
            "zlib-1.2.11-ha838bed_2.tar.bz2               101 KB\n",
            "click-6.7-py36h5253387_0.tar.bz2             104 KB\n",
            "expat-2.2.5-he0dffb1_0.tar.bz2               186 KB\n",
            "terminado-0.8.1-py36_1.tar.bz2                21 KB\n",
            "pytest-doctestplus-0.1.3-py36_0.tar.bz2       19 KB\n",
            "fastcache-1.0.2-py36h14c3975_2.tar.bz2        30 KB\n",
            "gst-plugins-base-1.14.0-hbbd80ab_1.tar.bz2     6.3 MB\n",
            "pip-10.0.1-py36_0.tar.bz2                    1.8 MB\n",
            "qtconsole-4.3.1-py36h8f73b5b_0.tar.bz2       150 KB\n",
            "scipy-1.1.0-py36hfc37229_0.tar.bz2          18.1 MB\n",
            "jsonschema-2.6.0-py36h006f8b5_0.tar.bz2       62 KB\n",
            "fontconfig-2.12.6-h49f89f6_0.tar.bz2         283 KB\n",
            "olefile-0.45.1-py36_0.tar.bz2                 47 KB\n",
            "libssh2-1.8.0-h9cfc8f7_4.tar.bz2             243 KB\n",
            "harfbuzz-1.7.6-h5f0a787_1.tar.bz2            807 KB\n",
            "backports-1.0-py36hfa02d7e_1.tar.bz2           3 KB\n",
            "boto-2.48.0-py36h6e4cd66_1.tar.bz2           1.5 MB\n",
            "pcre-8.42-h439df22_0.tar.bz2                 251 KB\n",
            "pexpect-4.5.0-py36_0.tar.bz2                  75 KB\n",
            "packaging-17.1-py36_0.tar.bz2                 33 KB\n",
            "wcwidth-0.1.7-py36hdf4376a_0.tar.bz2          25 KB\n",
            "jupyter_console-5.2.0-py36he59e554_1.tar.bz2      35 KB\n",
            "nltk-3.3.0-py36_0.tar.bz2                    2.0 MB\n",
            "pywavelets-0.5.2-py36he602eb0_0.tar.bz2      4.0 MB\n",
            "qtpy-1.4.1-py36_0.tar.bz2                     44 KB\n",
            "glob2-0.6-py36he249c77_0.tar.bz2              17 KB\n",
            "ipykernel-4.8.2-py36_0.tar.bz2               145 KB\n",
            "dbus-1.13.2-h714fa37_1.tar.bz2               554 KB\n",
            "pyflakes-1.6.0-py36h7bd6a15_0.tar.bz2         85 KB\n",
            "nose-1.3.7-py36hcdf7029_2.tar.bz2            214 KB\n",
            "pyodbc-4.0.23-py36hf484d3e_0.tar.bz2          63 KB\n",
            "pluggy-0.6.0-py36hb689045_0.tar.bz2           23 KB\n",
            "beautifulsoup4-4.6.0-py36h49b8c8c_1.tar.bz2     133 KB\n",
            "numba-0.38.0-py36h637b7d7_0.tar.bz2          2.4 MB\n",
            "qtawesome-0.4.4-py36h609ed8c_0.tar.bz2       159 KB\n",
            "send2trash-1.5.0-py36_0.tar.bz2               16 KB\n",
            "bzip2-1.0.6-h14c3975_5.tar.bz2               414 KB\n",
            "nbformat-4.4.0-py36h31c9010_0.tar.bz2        137 KB\n",
            "cffi-1.11.5-py36h9745a5d_0.tar.bz2           212 KB\n",
            "libgcc-ng-7.2.0-hdf63c60_3.tar.bz2           6.1 MB\n",
            "pyzmq-17.0.0-py36h14c3975_0.tar.bz2          454 KB\n",
            "ply-3.11-py36_0.tar.bz2                       79 KB\n",
            "pandoc-1.19.2.1-hea2e7c5_1.tar.bz2          17.8 MB\n",
            "gmp-6.1.2-h6c8ec71_1.tar.bz2                 744 KB\n",
            "jinja2-2.10-py36ha16c418_0.tar.bz2           184 KB\n",
            "pytest-astropy-0.3.0-py36_0.tar.bz2            5 KB\n",
            "libpng-1.6.34-hb9fc6fc_0.tar.bz2             334 KB\n",
            "jupyter_client-5.2.3-py36_0.tar.bz2          124 KB\n",
            "tornado-5.0.2-py36_0.tar.bz2                 644 KB\n",
            "dask-0.17.5-py36_0.tar.bz2                     3 KB\n",
            "_ipyw_jlab_nb_ext_conf-0.1.0-py36he11e457_0.tar.bz2       4 KB\n",
            "libxslt-1.1.32-h1312cb7_0.tar.bz2            538 KB\n",
            "ipython_genutils-0.2.0-py36hb52b0d5_0.tar.bz2      39 KB\n",
            "sphinxcontrib-1.0-py36h6d0f590_1.tar.bz2       3 KB\n",
            "conda-verify-2.0.0-py36h98955d8_0.tar.bz2      20 KB\n",
            "sortedcollections-0.6.1-py36_0.tar.bz2        14 KB\n",
            "libtool-2.4.6-h544aabb_3.tar.bz2             517 KB\n",
            "curl-7.60.0-h84994c4_0.tar.bz2               140 KB\n",
            "isort-4.3.4-py36_0.tar.bz2                    58 KB\n",
            "conda-4.5.4-py36_0.tar.bz2                   1.0 MB\n",
            "imageio-2.3.0-py36_0.tar.bz2                 3.3 MB\n",
            "xlsxwriter-1.0.4-py36_0.tar.bz2              206 KB\n",
            "openssl-1.0.2o-h20670df_0.tar.bz2            3.4 MB\n",
            "chardet-3.0.4-py36h0f667ec_1.tar.bz2         190 KB\n",
            "numpydoc-0.8.0-py36_0.tar.bz2                 42 KB\n",
            "glib-2.56.1-h000015b_0.tar.bz2               5.0 MB\n",
            "xlrd-1.1.0-py36h1db9f0c_1.tar.bz2            194 KB\n",
            "parso-0.2.0-py36_0.tar.bz2                   116 KB\n",
            "mpc-1.0.3-hec55b23_5.tar.bz2                  95 KB\n",
            "icu-58.2-h9c2bf20_1.tar.bz2                 22.5 MB\n",
            "ca-certificates-2018.03.07-0.tar.bz2         124 KB\n",
            "pkginfo-1.4.2-py36_1.tar.bz2                  39 KB\n",
            "pandocfilters-1.4.2-py36ha6701b7_1.tar.bz2      12 KB\n",
            "tblib-1.3.2-py36h34cf8b6_0.tar.bz2            16 KB\n",
            "idna-2.6-py36h82fb2a8_1.tar.bz2              122 KB\n",
            "werkzeug-0.14.1-py36_0.tar.bz2               423 KB\n",
            "widgetsnbextension-3.2.1-py36_0.tar.bz2      1.7 MB\n",
            "snappy-1.1.7-hbae5bb6_3.tar.bz2               38 KB\n",
            "heapdict-1.0.0-py36_2.tar.bz2                  7 KB\n",
            "ncurses-6.1-hf484d3e_0.tar.bz2               943 KB\n",
            "pathlib2-2.3.2-py36_0.tar.bz2                 32 KB\n",
            "anaconda-5.2.0-py36_3.tar.bz2                 11 KB\n",
            "wheel-0.31.1-py36_0.tar.bz2                   62 KB\n",
            "gevent-1.3.0-py36h14c3975_0.tar.bz2          1.9 MB\n",
            "mkl_fft-1.0.1-py36h3010b51_0.tar.bz2         140 KB\n",
            "hdf5-1.10.2-hba1933b_1.tar.bz2               5.2 MB\n",
            "networkx-2.1-py36_0.tar.bz2                  1.8 MB\n",
            "sortedcontainers-1.5.10-py36_0.tar.bz2        46 KB\n",
            "psutil-5.4.5-py36h14c3975_0.tar.bz2          303 KB\n",
            "ipywidgets-7.2.1-py36_0.tar.bz2              144 KB\n",
            "snowballstemmer-1.2.1-py36h6febd40_0.tar.bz2      85 KB\n",
            "jupyter_core-4.4.0-py36h7c827e3_0.tar.bz2      61 KB\n",
            "qt-5.9.5-h7e424d6_0.tar.bz2                 84.9 MB\n",
            "simplegeneric-0.8.1-py36_2.tar.bz2             9 KB\n",
            "jedi-0.12.0-py36_1.tar.bz2                   223 KB\n",
            "urllib3-1.22-py36hbe7ace6_0.tar.bz2          155 KB\n",
            "webencodings-0.5.1-py36h800622e_1.tar.bz2      19 KB\n",
            "backports.shutil_get_terminal_size-1.0.0-py36hfea85ff_2.tar.bz2       8 KB\n",
            "libcurl-7.60.0-h1ad7b7a_0.tar.bz2            495 KB\n",
            "backcall-0.1.0-py36_0.tar.bz2                 19 KB\n",
            "testpath-0.3.1-py36h8cadb63_0.tar.bz2         89 KB\n",
            "markupsafe-1.0-py36hd9260cd_1.tar.bz2         24 KB\n",
            "sqlalchemy-1.2.7-py36h6b74fdf_0.tar.bz2      1.6 MB\n",
            "multipledispatch-0.5.0-py36_0.tar.bz2         18 KB\n",
            "lazy-object-proxy-1.3.1-py36h10fcdad_0.tar.bz2      29 KB\n",
            "sip-4.19.8-py36hf484d3e_0.tar.bz2            290 KB\n",
            "pillow-5.1.0-py36h3deb7b8_0.tar.bz2          582 KB\n",
            "sphinxcontrib-websupport-1.0.1-py36hb5cb234_1.tar.bz2      36 KB\n",
            "gstreamer-1.14.0-hb453b48_1.tar.bz2          3.8 MB\n",
            "statsmodels-0.9.0-py36h3010b51_0.tar.bz2     8.9 MB\n",
            "ptyprocess-0.5.2-py36h69acd42_0.tar.bz2       22 KB\n",
            "itsdangerous-0.24-py36h93cc618_1.tar.bz2      20 KB\n",
            "docutils-0.14-py36hb0f60f5_0.tar.bz2         688 KB\n",
            "gmpy2-2.0.8-py36hc8893dd_2.tar.bz2           165 KB\n",
            "yaml-0.1.7-had09818_2.tar.bz2                 85 KB\n",
            "numpy-base-1.14.3-py36h9be14a7_1.tar.bz2     4.1 MB\n",
            "lzo-2.10-h49e0be7_2.tar.bz2                  313 KB\n",
            "conda-build-3.10.5-py36_0.tar.bz2            431 KB\n",
            "pyparsing-2.2.0-py36hee85983_1.tar.bz2        96 KB\n",
            "flask-1.0.2-py36_1.tar.bz2                   119 KB\n",
            "zict-0.1.3-py36h3a3bf81_0.tar.bz2             18 KB\n",
            "bleach-2.1.3-py36_0.tar.bz2                   33 KB\n",
            "pysocks-1.6.8-py36_0.tar.bz2                  22 KB\n",
            "ruamel_yaml-0.15.35-py36h14c3975_1.tar.bz2     245 KB\n",
            "sphinx-1.7.4-py36_0.tar.bz2                  1.6 MB\n",
            "mkl_random-1.0.1-py36h629b387_0.tar.bz2      373 KB\n",
            "jupyterlab-0.32.1-py36_0.tar.bz2            10.0 MB\n",
            "attrs-18.1.0-py36_0.tar.bz2                   43 KB\n",
            "pytest-remotedata-0.2.1-py36_0.tar.bz2        11 KB\n",
            "bokeh-0.12.16-py36_0.tar.bz2                 4.1 MB\n",
            "pandas-0.23.0-py36h637b7d7_0.tar.bz2        11.8 MB\n",
            "pyyaml-3.12-py36hafb9ca4_1.tar.bz2           159 KB\n",
            "intel-openmp-2018.0.0-8.tar.bz2              620 KB\n",
            "libtiff-4.0.9-he85c1e1_1.tar.bz2             566 KB\n",
            "tk-8.6.7-hc745277_3.tar.bz2                  3.2 MB\n",
            "lxml-4.2.1-py36h23eabaa_0.tar.bz2            1.4 MB\n",
            "ipython-6.4.0-py36_0.tar.bz2                 1.0 MB\n",
            "html5lib-1.0.1-py36h2f9c1c0_0.tar.bz2        181 KB\n",
            "zeromq-4.2.5-h439df22_0.tar.bz2              567 KB\n",
            "pango-1.41.0-hd475d92_0.tar.bz2              530 KB\n",
            "unicodecsv-0.14.1-py36ha668878_0.tar.bz2      25 KB\n",
            "freetype-2.8-hab7d2ae_1.tar.bz2              804 KB\n",
            "py-1.5.3-py36_0.tar.bz2                      135 KB\n",
            "pyopenssl-18.0.0-py36_0.tar.bz2               82 KB\n",
            "libedit-3.1.20170329-h6b74fdf_2.tar.bz2      172 KB\n",
            "partd-0.3.8-py36h36fd896_0.tar.bz2            31 KB\n",
            "prompt_toolkit-1.0.15-py36h17d85b1_0.tar.bz2     339 KB\n",
            "pytables-3.4.3-py36h02b9ad4_2.tar.bz2        1.5 MB\n",
            "unixodbc-2.3.6-h1bed415_0.tar.bz2            317 KB\n",
            "cython-0.28.2-py36h14c3975_0.tar.bz2         3.4 MB\n",
            "toolz-0.9.0-py36_0.tar.bz2                    91 KB\n",
            "xlwt-1.3.0-py36h7b00a1f_0.tar.bz2            162 KB\n",
            "pycrypto-2.6.1-py36h14c3975_8.tar.bz2        466 KB\n",
            "conda-env-2.6.0-h36134e3_1.tar.bz2             2 KB\n",
            "babel-2.5.3-py36_0.tar.bz2                   4.7 MB\n",
            "libffi-3.2.1-hd88cf55_4.tar.bz2               43 KB\n",
            "pylint-1.8.4-py36_0.tar.bz2                  748 KB\n",
            "pytz-2018.4-py36_0.tar.bz2                   212 KB\n",
            "anaconda-project-0.8.2-py36h44fb852_0.tar.bz2     477 KB\n",
            "seaborn-0.8.1-py36hfad7ec4_0.tar.bz2         335 KB\n",
            "jupyterlab_launcher-0.10.5-py36_0.tar.bz2      25 KB\n",
            "blaze-0.11.3-py36h4e06776_0.tar.bz2          605 KB\n",
            "pycodestyle-2.4.0-py36_0.tar.bz2              59 KB\n",
            "setuptools-39.1.0-py36_0.tar.bz2             550 KB\n",
            "bitarray-0.8.1-py36h14c3975_1.tar.bz2         60 KB\n",
            "sqlite-3.23.1-he433501_0.tar.bz2             1.5 MB\n",
            "mkl-2018.0.2-1.tar.bz2                     205.2 MB\n",
            "msgpack-python-0.5.6-py36h6bb024c_0.tar.bz2      96 KB\n",
            "greenlet-0.4.13-py36h14c3975_0.tar.bz2        19 KB\n",
            "odo-0.5.1-py36h90ed295_0.tar.bz2             193 KB\n",
            "pytest-3.5.1-py36_0.tar.bz2                  292 KB\n",
            "libxml2-2.9.8-h26e45fe_1.tar.bz2             2.0 MB\n",
            "graphite2-1.3.11-h16798f4_2.tar.bz2          129 KB\n",
            "h5py-2.7.1-py36ha1f6525_2.tar.bz2            1.0 MB\n",
            "pycurl-7.43.0.1-py36hb7f436b_0.tar.bz2        57 KB\n",
            "pygments-2.2.0-py36h0d3125c_0.tar.bz2        1.3 MB\n",
            "mpmath-1.0.0-py36hfeacd6b_2.tar.bz2          908 KB\n",
            "certifi-2018.4.16-py36_0.tar.bz2             142 KB\n",
            "llvmlite-0.23.1-py36hdbcaa40_0.tar.bz2      15.3 MB\n",
            "cryptography-2.2.2-py36h14c3975_0.tar.bz2     599 KB\n",
            "asn1crypto-0.24.0-py36_0.tar.bz2             155 KB\n",
            "path.py-11.0.1-py36_0.tar.bz2                 53 KB\n",
            "colorama-0.3.9-py36h489cec4_0.tar.bz2         23 KB\n",
            "pyqt-5.9.2-py36h751905a_0.tar.bz2            5.9 MB\n",
            "contextlib2-0.5.5-py36h6c84a62_0.tar.bz2      15 KB\n",
            "pytest-openfiles-0.3.0-py36_0.tar.bz2          9 KB\n",
            "cairo-1.14.12-h7636065_2.tar.bz2             1.3 MB\n",
            "xz-5.2.4-h14c3975_4.tar.bz2                  366 KB\n",
            "traitlets-4.3.2-py36h674d592_0.tar.bz2       131 KB\n",
            "nbconvert-5.3.1-py36hb41ffb7_0.tar.bz2       398 KB\n",
            "patchelf-0.9-hf79760b_2.tar.bz2               69 KB\n",
            "mkl-service-1.1.2-py36h17a0993_4.tar.bz2      10 KB\n",
            "filelock-3.0.4-py36_0.tar.bz2                 12 KB\n",
            "pycparser-2.18-py36hf9f622e_1.tar.bz2        169 KB\n",
            "scikit-learn-0.19.1-py36h7aa7ec6_0.tar.bz2     5.2 MB\n",
            "distributed-1.21.8-py36_0.tar.bz2            777 KB\n",
            "pixman-0.34.0-hceecf20_3.tar.bz2             598 KB\n",
            "rope-0.10.7-py36h147e2ec_0.tar.bz2           279 KB\n",
            "wrapt-1.10.11-py36h28b7045_0.tar.bz2          45 KB\n",
            "numpy-1.14.3-py36hcd700cb_1.tar.bz2           41 KB\n",
            "singledispatch-3.4.0.3-py36h7a266c3_0.tar.bz2      15 KB\n",
            "bottleneck-1.2.1-py36haac1ea0_0.tar.bz2      127 KB\n",
            "openpyxl-2.5.3-py36_0.tar.bz2                322 KB\n",
            "mpfr-3.1.5-h11a74b3_2.tar.bz2                444 KB\n",
            "mistune-0.8.3-py36h14c3975_1.tar.bz2         276 KB\n",
            "cycler-0.10.0-py36h93f1223_0.tar.bz2          13 KB\n",
            "pep8-1.7.1-py36_0.tar.bz2                     52 KB\n",
            "cytoolz-0.9.0.1-py36h14c3975_0.tar.bz2       419 KB\n",
            "kiwisolver-1.0.1-py36h764f252_0.tar.bz2       84 KB\n",
            "anaconda-navigator-1.8.7-py36_0.tar.bz2      4.7 MB\n",
            "jupyter-1.0.0-py36_4.tar.bz2                   5 KB\n",
            "datashape-0.5.4-py36h3ad6b5c_0.tar.bz2        99 KB\n",
            "notebook-5.5.0-py36_0.tar.bz2                7.0 MB\n",
            "bkcharts-0.2-py36h735825a_0.tar.bz2          127 KB\n",
            "pycosat-0.6.3-py36h0a5515d_0.tar.bz2         104 KB\n",
            "anaconda-client-1.6.14-py36_0.tar.bz2        134 KB\n",
            "locket-0.2.0-py36h787c0ad_1.tar.bz2            8 KB\n",
            "libxcb-1.13-h1bed415_1.tar.bz2               502 KB\n",
            "python-3.6.5-hc3d631a_2.tar.bz2             29.4 MB\n",
            "python-dateutil-2.7.3-py36_0.tar.bz2         260 KB\n",
            "imagesize-1.0.0-py36_0.tar.bz2                 8 KB\n",
            "clyent-1.2.2-py36h7e57e65_1.tar.bz2           18 KB\n",
            "sympy-1.1.1-py36hc6d1c1c_0.tar.bz2           7.0 MB\n",
            "jbig-2.1-hdba287a_0.tar.bz2                   41 KB\n",
            "jpeg-9b-h024ee3a_2.tar.bz2                   248 KB\n",
            "spyder-3.2.8-py36_0.tar.bz2                  2.6 MB\n",
            "pytest-arraydiff-0.2-py36_0.tar.bz2           14 KB\n",
            "entrypoints-0.2.3-py36h1aec115_2.tar.bz2       9 KB\n",
            "astropy-3.0.2-py36h3010b51_1.tar.bz2         6.8 MB\n",
            "requests-2.18.4-py36he2e5f8d_1.tar.bz2        92 KB\n",
            "cloudpickle-0.5.3-py36_0.tar.bz2              26 KB\n",
            "typing-3.6.4-py36_0.tar.bz2                   45 KB\n",
            "more-itertools-4.1.0-py36_0.tar.bz2           76 KB\n",
            "matplotlib-2.2.2-py36h0e671d2_1.tar.bz2      6.6 MB\n",
            "libgfortran-ng-7.2.0-hdf63c60_3.tar.bz2      1.2 MB\n",
            "navigator-updater-0.2.1-py36_0.tar.bz2       1.2 MB\n",
            "libsodium-1.0.16-h1bed415_0.tar.bz2          302 KB\n",
            "blosc-1.14.3-hdbcaa40_0.tar.bz2              601 KB\n",
            "readline-7.0-ha6073c6_4.tar.bz2              1.1 MB\n",
            "\n",
            "---------------------------------------------------\n",
            "Total:                                     620.3 MB\n",
            "\n",
            "Proceed ([y]/n)? y\n",
            "\n",
            "Removed six-1.11.0-py36h372c433_1.tar.bz2\n",
            "Removed libstdcxx-ng-7.2.0-hdf63c60_3.tar.bz2\n",
            "Removed astroid-1.6.3-py36_0.tar.bz2\n",
            "Removed alabaster-0.7.10-py36h306e16b_0.tar.bz2\n",
            "Removed dask-core-0.17.5-py36_0.tar.bz2\n",
            "Removed jdcal-1.4-py36_0.tar.bz2\n",
            "Removed blas-1.0-mkl.tar.bz2\n",
            "Removed scikit-image-0.13.1-py36h14c3975_1.tar.bz2\n",
            "Removed patsy-0.5.0-py36_0.tar.bz2\n",
            "Removed decorator-4.3.0-py36_0.tar.bz2\n",
            "Removed et_xmlfile-1.0.1-py36hd6bccc3_0.tar.bz2\n",
            "Removed get_terminal_size-1.0.0-haa9412d_0.tar.bz2\n",
            "Removed mccabe-0.6.1-py36h5ad9710_1.tar.bz2\n",
            "Removed numexpr-2.6.5-py36h7bf3b9c_0.tar.bz2\n",
            "Removed flask-cors-3.0.4-py36_0.tar.bz2\n",
            "Removed pickleshare-0.7.4-py36h63277f8_0.tar.bz2\n",
            "Removed zlib-1.2.11-ha838bed_2.tar.bz2\n",
            "Removed click-6.7-py36h5253387_0.tar.bz2\n",
            "Removed expat-2.2.5-he0dffb1_0.tar.bz2\n",
            "Removed terminado-0.8.1-py36_1.tar.bz2\n",
            "Removed pytest-doctestplus-0.1.3-py36_0.tar.bz2\n",
            "Removed fastcache-1.0.2-py36h14c3975_2.tar.bz2\n",
            "Removed gst-plugins-base-1.14.0-hbbd80ab_1.tar.bz2\n",
            "Removed pip-10.0.1-py36_0.tar.bz2\n",
            "Removed qtconsole-4.3.1-py36h8f73b5b_0.tar.bz2\n",
            "Removed scipy-1.1.0-py36hfc37229_0.tar.bz2\n",
            "Removed jsonschema-2.6.0-py36h006f8b5_0.tar.bz2\n",
            "Removed fontconfig-2.12.6-h49f89f6_0.tar.bz2\n",
            "Removed olefile-0.45.1-py36_0.tar.bz2\n",
            "Removed libssh2-1.8.0-h9cfc8f7_4.tar.bz2\n",
            "Removed harfbuzz-1.7.6-h5f0a787_1.tar.bz2\n",
            "Removed backports-1.0-py36hfa02d7e_1.tar.bz2\n",
            "Removed boto-2.48.0-py36h6e4cd66_1.tar.bz2\n",
            "Removed pcre-8.42-h439df22_0.tar.bz2\n",
            "Removed pexpect-4.5.0-py36_0.tar.bz2\n",
            "Removed packaging-17.1-py36_0.tar.bz2\n",
            "Removed wcwidth-0.1.7-py36hdf4376a_0.tar.bz2\n",
            "Removed jupyter_console-5.2.0-py36he59e554_1.tar.bz2\n",
            "Removed nltk-3.3.0-py36_0.tar.bz2\n",
            "Removed pywavelets-0.5.2-py36he602eb0_0.tar.bz2\n",
            "Removed qtpy-1.4.1-py36_0.tar.bz2\n",
            "Removed glob2-0.6-py36he249c77_0.tar.bz2\n",
            "Removed ipykernel-4.8.2-py36_0.tar.bz2\n",
            "Removed dbus-1.13.2-h714fa37_1.tar.bz2\n",
            "Removed pyflakes-1.6.0-py36h7bd6a15_0.tar.bz2\n",
            "Removed nose-1.3.7-py36hcdf7029_2.tar.bz2\n",
            "Removed pyodbc-4.0.23-py36hf484d3e_0.tar.bz2\n",
            "Removed pluggy-0.6.0-py36hb689045_0.tar.bz2\n",
            "Removed beautifulsoup4-4.6.0-py36h49b8c8c_1.tar.bz2\n",
            "Removed numba-0.38.0-py36h637b7d7_0.tar.bz2\n",
            "Removed qtawesome-0.4.4-py36h609ed8c_0.tar.bz2\n",
            "Removed send2trash-1.5.0-py36_0.tar.bz2\n",
            "Removed bzip2-1.0.6-h14c3975_5.tar.bz2\n",
            "Removed nbformat-4.4.0-py36h31c9010_0.tar.bz2\n",
            "Removed cffi-1.11.5-py36h9745a5d_0.tar.bz2\n",
            "Removed libgcc-ng-7.2.0-hdf63c60_3.tar.bz2\n",
            "Removed pyzmq-17.0.0-py36h14c3975_0.tar.bz2\n",
            "Removed ply-3.11-py36_0.tar.bz2\n",
            "Removed pandoc-1.19.2.1-hea2e7c5_1.tar.bz2\n",
            "Removed gmp-6.1.2-h6c8ec71_1.tar.bz2\n",
            "Removed jinja2-2.10-py36ha16c418_0.tar.bz2\n",
            "Removed pytest-astropy-0.3.0-py36_0.tar.bz2\n",
            "Removed libpng-1.6.34-hb9fc6fc_0.tar.bz2\n",
            "Removed jupyter_client-5.2.3-py36_0.tar.bz2\n",
            "Removed tornado-5.0.2-py36_0.tar.bz2\n",
            "Removed dask-0.17.5-py36_0.tar.bz2\n",
            "Removed _ipyw_jlab_nb_ext_conf-0.1.0-py36he11e457_0.tar.bz2\n",
            "Removed libxslt-1.1.32-h1312cb7_0.tar.bz2\n",
            "Removed ipython_genutils-0.2.0-py36hb52b0d5_0.tar.bz2\n",
            "Removed sphinxcontrib-1.0-py36h6d0f590_1.tar.bz2\n",
            "Removed conda-verify-2.0.0-py36h98955d8_0.tar.bz2\n",
            "Removed sortedcollections-0.6.1-py36_0.tar.bz2\n",
            "Removed libtool-2.4.6-h544aabb_3.tar.bz2\n",
            "Removed curl-7.60.0-h84994c4_0.tar.bz2\n",
            "Removed isort-4.3.4-py36_0.tar.bz2\n",
            "Removed conda-4.5.4-py36_0.tar.bz2\n",
            "Removed imageio-2.3.0-py36_0.tar.bz2\n",
            "Removed xlsxwriter-1.0.4-py36_0.tar.bz2\n",
            "Removed openssl-1.0.2o-h20670df_0.tar.bz2\n",
            "Removed chardet-3.0.4-py36h0f667ec_1.tar.bz2\n",
            "Removed numpydoc-0.8.0-py36_0.tar.bz2\n",
            "Removed glib-2.56.1-h000015b_0.tar.bz2\n",
            "Removed xlrd-1.1.0-py36h1db9f0c_1.tar.bz2\n",
            "Removed parso-0.2.0-py36_0.tar.bz2\n",
            "Removed mpc-1.0.3-hec55b23_5.tar.bz2\n",
            "Removed icu-58.2-h9c2bf20_1.tar.bz2\n",
            "Removed ca-certificates-2018.03.07-0.tar.bz2\n",
            "Removed pkginfo-1.4.2-py36_1.tar.bz2\n",
            "Removed pandocfilters-1.4.2-py36ha6701b7_1.tar.bz2\n",
            "Removed tblib-1.3.2-py36h34cf8b6_0.tar.bz2\n",
            "Removed idna-2.6-py36h82fb2a8_1.tar.bz2\n",
            "Removed werkzeug-0.14.1-py36_0.tar.bz2\n",
            "Removed widgetsnbextension-3.2.1-py36_0.tar.bz2\n",
            "Removed snappy-1.1.7-hbae5bb6_3.tar.bz2\n",
            "Removed heapdict-1.0.0-py36_2.tar.bz2\n",
            "Removed ncurses-6.1-hf484d3e_0.tar.bz2\n",
            "Removed pathlib2-2.3.2-py36_0.tar.bz2\n",
            "Removed anaconda-5.2.0-py36_3.tar.bz2\n",
            "Removed wheel-0.31.1-py36_0.tar.bz2\n",
            "Removed gevent-1.3.0-py36h14c3975_0.tar.bz2\n",
            "Removed mkl_fft-1.0.1-py36h3010b51_0.tar.bz2\n",
            "Removed hdf5-1.10.2-hba1933b_1.tar.bz2\n",
            "Removed networkx-2.1-py36_0.tar.bz2\n",
            "Removed sortedcontainers-1.5.10-py36_0.tar.bz2\n",
            "Removed psutil-5.4.5-py36h14c3975_0.tar.bz2\n",
            "Removed ipywidgets-7.2.1-py36_0.tar.bz2\n",
            "Removed snowballstemmer-1.2.1-py36h6febd40_0.tar.bz2\n",
            "Removed jupyter_core-4.4.0-py36h7c827e3_0.tar.bz2\n",
            "Removed qt-5.9.5-h7e424d6_0.tar.bz2\n",
            "Removed simplegeneric-0.8.1-py36_2.tar.bz2\n",
            "Removed jedi-0.12.0-py36_1.tar.bz2\n",
            "Removed urllib3-1.22-py36hbe7ace6_0.tar.bz2\n",
            "Removed webencodings-0.5.1-py36h800622e_1.tar.bz2\n",
            "Removed backports.shutil_get_terminal_size-1.0.0-py36hfea85ff_2.tar.bz2\n",
            "Removed libcurl-7.60.0-h1ad7b7a_0.tar.bz2\n",
            "Removed backcall-0.1.0-py36_0.tar.bz2\n",
            "Removed testpath-0.3.1-py36h8cadb63_0.tar.bz2\n",
            "Removed markupsafe-1.0-py36hd9260cd_1.tar.bz2\n",
            "Removed sqlalchemy-1.2.7-py36h6b74fdf_0.tar.bz2\n",
            "Removed multipledispatch-0.5.0-py36_0.tar.bz2\n",
            "Removed lazy-object-proxy-1.3.1-py36h10fcdad_0.tar.bz2\n",
            "Removed sip-4.19.8-py36hf484d3e_0.tar.bz2\n",
            "Removed pillow-5.1.0-py36h3deb7b8_0.tar.bz2\n",
            "Removed sphinxcontrib-websupport-1.0.1-py36hb5cb234_1.tar.bz2\n",
            "Removed gstreamer-1.14.0-hb453b48_1.tar.bz2\n",
            "Removed statsmodels-0.9.0-py36h3010b51_0.tar.bz2\n",
            "Removed ptyprocess-0.5.2-py36h69acd42_0.tar.bz2\n",
            "Removed itsdangerous-0.24-py36h93cc618_1.tar.bz2\n",
            "Removed docutils-0.14-py36hb0f60f5_0.tar.bz2\n",
            "Removed gmpy2-2.0.8-py36hc8893dd_2.tar.bz2\n",
            "Removed yaml-0.1.7-had09818_2.tar.bz2\n",
            "Removed numpy-base-1.14.3-py36h9be14a7_1.tar.bz2\n",
            "Removed lzo-2.10-h49e0be7_2.tar.bz2\n",
            "Removed conda-build-3.10.5-py36_0.tar.bz2\n",
            "Removed pyparsing-2.2.0-py36hee85983_1.tar.bz2\n",
            "Removed flask-1.0.2-py36_1.tar.bz2\n",
            "Removed zict-0.1.3-py36h3a3bf81_0.tar.bz2\n",
            "Removed bleach-2.1.3-py36_0.tar.bz2\n",
            "Removed pysocks-1.6.8-py36_0.tar.bz2\n",
            "Removed ruamel_yaml-0.15.35-py36h14c3975_1.tar.bz2\n",
            "Removed sphinx-1.7.4-py36_0.tar.bz2\n",
            "Removed mkl_random-1.0.1-py36h629b387_0.tar.bz2\n",
            "Removed jupyterlab-0.32.1-py36_0.tar.bz2\n",
            "Removed attrs-18.1.0-py36_0.tar.bz2\n",
            "Removed pytest-remotedata-0.2.1-py36_0.tar.bz2\n",
            "Removed bokeh-0.12.16-py36_0.tar.bz2\n",
            "Removed pandas-0.23.0-py36h637b7d7_0.tar.bz2\n",
            "Removed pyyaml-3.12-py36hafb9ca4_1.tar.bz2\n",
            "Removed intel-openmp-2018.0.0-8.tar.bz2\n",
            "Removed libtiff-4.0.9-he85c1e1_1.tar.bz2\n",
            "Removed tk-8.6.7-hc745277_3.tar.bz2\n",
            "Removed lxml-4.2.1-py36h23eabaa_0.tar.bz2\n",
            "Removed ipython-6.4.0-py36_0.tar.bz2\n",
            "Removed html5lib-1.0.1-py36h2f9c1c0_0.tar.bz2\n",
            "Removed zeromq-4.2.5-h439df22_0.tar.bz2\n",
            "Removed pango-1.41.0-hd475d92_0.tar.bz2\n",
            "Removed unicodecsv-0.14.1-py36ha668878_0.tar.bz2\n",
            "Removed freetype-2.8-hab7d2ae_1.tar.bz2\n",
            "Removed py-1.5.3-py36_0.tar.bz2\n",
            "Removed pyopenssl-18.0.0-py36_0.tar.bz2\n",
            "Removed libedit-3.1.20170329-h6b74fdf_2.tar.bz2\n",
            "Removed partd-0.3.8-py36h36fd896_0.tar.bz2\n",
            "Removed prompt_toolkit-1.0.15-py36h17d85b1_0.tar.bz2\n",
            "Removed pytables-3.4.3-py36h02b9ad4_2.tar.bz2\n",
            "Removed unixodbc-2.3.6-h1bed415_0.tar.bz2\n",
            "Removed cython-0.28.2-py36h14c3975_0.tar.bz2\n",
            "Removed toolz-0.9.0-py36_0.tar.bz2\n",
            "Removed xlwt-1.3.0-py36h7b00a1f_0.tar.bz2\n",
            "Removed pycrypto-2.6.1-py36h14c3975_8.tar.bz2\n",
            "Removed conda-env-2.6.0-h36134e3_1.tar.bz2\n",
            "Removed babel-2.5.3-py36_0.tar.bz2\n",
            "Removed libffi-3.2.1-hd88cf55_4.tar.bz2\n",
            "Removed pylint-1.8.4-py36_0.tar.bz2\n",
            "Removed pytz-2018.4-py36_0.tar.bz2\n",
            "Removed anaconda-project-0.8.2-py36h44fb852_0.tar.bz2\n",
            "Removed seaborn-0.8.1-py36hfad7ec4_0.tar.bz2\n",
            "Removed jupyterlab_launcher-0.10.5-py36_0.tar.bz2\n",
            "Removed blaze-0.11.3-py36h4e06776_0.tar.bz2\n",
            "Removed pycodestyle-2.4.0-py36_0.tar.bz2\n",
            "Removed setuptools-39.1.0-py36_0.tar.bz2\n",
            "Removed bitarray-0.8.1-py36h14c3975_1.tar.bz2\n",
            "Removed sqlite-3.23.1-he433501_0.tar.bz2\n",
            "Removed mkl-2018.0.2-1.tar.bz2\n",
            "Removed msgpack-python-0.5.6-py36h6bb024c_0.tar.bz2\n",
            "Removed greenlet-0.4.13-py36h14c3975_0.tar.bz2\n",
            "Removed odo-0.5.1-py36h90ed295_0.tar.bz2\n",
            "Removed pytest-3.5.1-py36_0.tar.bz2\n",
            "Removed libxml2-2.9.8-h26e45fe_1.tar.bz2\n",
            "Removed graphite2-1.3.11-h16798f4_2.tar.bz2\n",
            "Removed h5py-2.7.1-py36ha1f6525_2.tar.bz2\n",
            "Removed pycurl-7.43.0.1-py36hb7f436b_0.tar.bz2\n",
            "Removed pygments-2.2.0-py36h0d3125c_0.tar.bz2\n",
            "Removed mpmath-1.0.0-py36hfeacd6b_2.tar.bz2\n",
            "Removed certifi-2018.4.16-py36_0.tar.bz2\n",
            "Removed llvmlite-0.23.1-py36hdbcaa40_0.tar.bz2\n",
            "Removed cryptography-2.2.2-py36h14c3975_0.tar.bz2\n",
            "Removed asn1crypto-0.24.0-py36_0.tar.bz2\n",
            "Removed path.py-11.0.1-py36_0.tar.bz2\n",
            "Removed colorama-0.3.9-py36h489cec4_0.tar.bz2\n",
            "Removed pyqt-5.9.2-py36h751905a_0.tar.bz2\n",
            "Removed contextlib2-0.5.5-py36h6c84a62_0.tar.bz2\n",
            "Removed pytest-openfiles-0.3.0-py36_0.tar.bz2\n",
            "Removed cairo-1.14.12-h7636065_2.tar.bz2\n",
            "Removed xz-5.2.4-h14c3975_4.tar.bz2\n",
            "Removed traitlets-4.3.2-py36h674d592_0.tar.bz2\n",
            "Removed nbconvert-5.3.1-py36hb41ffb7_0.tar.bz2\n",
            "Removed patchelf-0.9-hf79760b_2.tar.bz2\n",
            "Removed mkl-service-1.1.2-py36h17a0993_4.tar.bz2\n",
            "Removed filelock-3.0.4-py36_0.tar.bz2\n",
            "Removed pycparser-2.18-py36hf9f622e_1.tar.bz2\n",
            "Removed scikit-learn-0.19.1-py36h7aa7ec6_0.tar.bz2\n",
            "Removed distributed-1.21.8-py36_0.tar.bz2\n",
            "Removed pixman-0.34.0-hceecf20_3.tar.bz2\n",
            "Removed rope-0.10.7-py36h147e2ec_0.tar.bz2\n",
            "Removed wrapt-1.10.11-py36h28b7045_0.tar.bz2\n",
            "Removed numpy-1.14.3-py36hcd700cb_1.tar.bz2\n",
            "Removed singledispatch-3.4.0.3-py36h7a266c3_0.tar.bz2\n",
            "Removed bottleneck-1.2.1-py36haac1ea0_0.tar.bz2\n",
            "Removed openpyxl-2.5.3-py36_0.tar.bz2\n",
            "Removed mpfr-3.1.5-h11a74b3_2.tar.bz2\n",
            "Removed mistune-0.8.3-py36h14c3975_1.tar.bz2\n",
            "Removed cycler-0.10.0-py36h93f1223_0.tar.bz2\n",
            "Removed pep8-1.7.1-py36_0.tar.bz2\n",
            "Removed cytoolz-0.9.0.1-py36h14c3975_0.tar.bz2\n",
            "Removed kiwisolver-1.0.1-py36h764f252_0.tar.bz2\n",
            "Removed anaconda-navigator-1.8.7-py36_0.tar.bz2\n",
            "Removed jupyter-1.0.0-py36_4.tar.bz2\n",
            "Removed datashape-0.5.4-py36h3ad6b5c_0.tar.bz2\n",
            "Removed notebook-5.5.0-py36_0.tar.bz2\n",
            "Removed bkcharts-0.2-py36h735825a_0.tar.bz2\n",
            "Removed pycosat-0.6.3-py36h0a5515d_0.tar.bz2\n",
            "Removed anaconda-client-1.6.14-py36_0.tar.bz2\n",
            "Removed locket-0.2.0-py36h787c0ad_1.tar.bz2\n",
            "Removed libxcb-1.13-h1bed415_1.tar.bz2\n",
            "Removed python-3.6.5-hc3d631a_2.tar.bz2\n",
            "Removed python-dateutil-2.7.3-py36_0.tar.bz2\n",
            "Removed imagesize-1.0.0-py36_0.tar.bz2\n",
            "Removed clyent-1.2.2-py36h7e57e65_1.tar.bz2\n",
            "Removed sympy-1.1.1-py36hc6d1c1c_0.tar.bz2\n",
            "Removed jbig-2.1-hdba287a_0.tar.bz2\n",
            "Removed jpeg-9b-h024ee3a_2.tar.bz2\n",
            "Removed spyder-3.2.8-py36_0.tar.bz2\n",
            "Removed pytest-arraydiff-0.2-py36_0.tar.bz2\n",
            "Removed entrypoints-0.2.3-py36h1aec115_2.tar.bz2\n",
            "Removed astropy-3.0.2-py36h3010b51_1.tar.bz2\n",
            "Removed requests-2.18.4-py36he2e5f8d_1.tar.bz2\n",
            "Removed cloudpickle-0.5.3-py36_0.tar.bz2\n",
            "Removed typing-3.6.4-py36_0.tar.bz2\n",
            "Removed more-itertools-4.1.0-py36_0.tar.bz2\n",
            "Removed matplotlib-2.2.2-py36h0e671d2_1.tar.bz2\n",
            "Removed libgfortran-ng-7.2.0-hdf63c60_3.tar.bz2\n",
            "Removed navigator-updater-0.2.1-py36_0.tar.bz2\n",
            "Removed libsodium-1.0.16-h1bed415_0.tar.bz2\n",
            "Removed blosc-1.14.3-hdbcaa40_0.tar.bz2\n",
            "Removed readline-7.0-ha6073c6_4.tar.bz2\n",
            "Cache location: /usr/local/pkgs\n",
            "Will remove the following packages:\n",
            "/usr/local/pkgs\n",
            "---------------\n",
            "\n",
            "conda-env-2.6.0-h36134e3_1                     4 KB\n",
            "anaconda-5.2.0-py36_3                         61 KB\n",
            "blas-1.0-mkl                                  15 KB\n",
            "get_terminal_size-1.0.0-haa9412d_0             6 KB\n",
            "dask-0.17.5-py36_0                             8 KB\n",
            "numpy-1.14.3-py36hcd700cb_1                  232 KB\n",
            "\n",
            "---------------------------------------------------\n",
            "Total:                                       326 KB\n",
            "\n",
            "Proceed ([y]/n)? y\n",
            "\n",
            "removing conda-env-2.6.0-h36134e3_1\n",
            "removing anaconda-5.2.0-py36_3\n",
            "removing blas-1.0-mkl\n",
            "removing get_terminal_size-1.0.0-haa9412d_0\n",
            "removing dask-0.17.5-py36_0\n",
            "removing numpy-1.14.3-py36hcd700cb_1\n",
            "source cache (/usr/local/conda-bld/src_cache)\n",
            "Size:                                           0 B\n",
            "\n",
            "git cache (/usr/local/conda-bld/git_cache)\n",
            "Size:                                           0 B\n",
            "\n",
            "hg cache (/usr/local/conda-bld/hg_cache)\n",
            "Size:                                           0 B\n",
            "\n",
            "svn cache (/usr/local/conda-bld/svn_cache)\n",
            "Size:                                           0 B\n",
            "\n",
            "Total:                                          0 B\n",
            "Proceed ([y]/n)? y\n",
            "\n",
            "Removing /usr/local/conda-bld/src_cache\n",
            "Removing /usr/local/conda-bld/git_cache\n",
            "Removing /usr/local/conda-bld/hg_cache\n",
            "Removing /usr/local/conda-bld/svn_cache\n"
          ]
        }
      ]
    },
    {
      "cell_type": "code",
      "source": [
        "# conda\n",
        "!wget -c https://repo.continuum.io/archive/Anaconda3-5.2.0-Linux-x86_64.sh\n",
        "!chmod +x Anaconda3-5.2.0-Linux-x86_64.sh\n",
        "!bash ./Anaconda3-5.2.0-Linux-x86_64.sh -b -f -p /usr/local\n",
        "# can change to another channel or package\n",
        "!conda install -q -y --prefix /usr/local -c pytorch faiss-cpu\n",
        "import sys\n",
        "sys.path.append('/usr/local/lib/python3.8/site-packages/') # Changed to python 3.8"
      ],
      "metadata": {
        "colab": {
          "base_uri": "https://localhost:8080/"
        },
        "id": "YM9qTwbMyz1V",
        "outputId": "79f8c4d8-c6a1-41af-8d53-897558463041"
      },
      "execution_count": 33,
      "outputs": [
        {
          "output_type": "stream",
          "name": "stdout",
          "text": [
            "--2024-09-09 00:59:33--  https://repo.continuum.io/archive/Anaconda3-5.2.0-Linux-x86_64.sh\n",
            "Resolving repo.continuum.io (repo.continuum.io)... 104.18.177.84, 104.18.176.84, 2606:4700::6812:b154, ...\n",
            "Connecting to repo.continuum.io (repo.continuum.io)|104.18.177.84|:443... connected.\n",
            "HTTP request sent, awaiting response... 301 Moved Permanently\n",
            "Location: https://repo.anaconda.com/archive/Anaconda3-5.2.0-Linux-x86_64.sh [following]\n",
            "--2024-09-09 00:59:33--  https://repo.anaconda.com/archive/Anaconda3-5.2.0-Linux-x86_64.sh\n",
            "Resolving repo.anaconda.com (repo.anaconda.com)... 104.16.191.158, 104.16.32.241, 2606:4700::6810:20f1, ...\n",
            "Connecting to repo.anaconda.com (repo.anaconda.com)|104.16.191.158|:443... connected.\n",
            "HTTP request sent, awaiting response... 206 Partial Content\n",
            "Length: 651745206 (622M), 139239041 (133M) remaining [application/x-sh]\n",
            "Saving to: ‘Anaconda3-5.2.0-Linux-x86_64.sh’\n",
            "\n",
            "Anaconda3-5.2.0-Lin 100%[+++++++++++++++====>] 621.55M   169MB/s    in 0.8s    \n",
            "\n",
            "2024-09-09 00:59:34 (169 MB/s) - ‘Anaconda3-5.2.0-Linux-x86_64.sh’ saved [651745206/651745206]\n",
            "\n",
            "PREFIX=/usr/local\n",
            "installing: python-3.6.5-hc3d631a_2 ...\n",
            "Python 3.6.5 :: Anaconda, Inc.\n",
            "installing: blas-1.0-mkl ...\n",
            "installing: ca-certificates-2018.03.07-0 ...\n",
            "installing: conda-env-2.6.0-h36134e3_1 ...\n",
            "installing: intel-openmp-2018.0.0-8 ...\n",
            "installing: libgcc-ng-7.2.0-hdf63c60_3 ...\n",
            "installing: libgfortran-ng-7.2.0-hdf63c60_3 ...\n",
            "installing: libstdcxx-ng-7.2.0-hdf63c60_3 ...\n",
            "installing: bzip2-1.0.6-h14c3975_5 ...\n",
            "installing: expat-2.2.5-he0dffb1_0 ...\n",
            "installing: gmp-6.1.2-h6c8ec71_1 ...\n",
            "installing: graphite2-1.3.11-h16798f4_2 ...\n",
            "installing: icu-58.2-h9c2bf20_1 ...\n",
            "installing: jbig-2.1-hdba287a_0 ...\n",
            "installing: jpeg-9b-h024ee3a_2 ...\n",
            "installing: libffi-3.2.1-hd88cf55_4 ...\n",
            "installing: libsodium-1.0.16-h1bed415_0 ...\n",
            "installing: libtool-2.4.6-h544aabb_3 ...\n",
            "installing: libxcb-1.13-h1bed415_1 ...\n",
            "installing: lzo-2.10-h49e0be7_2 ...\n",
            "installing: mkl-2018.0.2-1 ...\n",
            "installing: ncurses-6.1-hf484d3e_0 ...\n",
            "installing: openssl-1.0.2o-h20670df_0 ...\n",
            "installing: patchelf-0.9-hf79760b_2 ...\n",
            "installing: pcre-8.42-h439df22_0 ...\n",
            "installing: pixman-0.34.0-hceecf20_3 ...\n",
            "installing: snappy-1.1.7-hbae5bb6_3 ...\n",
            "installing: tk-8.6.7-hc745277_3 ...\n",
            "installing: unixodbc-2.3.6-h1bed415_0 ...\n",
            "installing: xz-5.2.4-h14c3975_4 ...\n",
            "installing: yaml-0.1.7-had09818_2 ...\n",
            "installing: zlib-1.2.11-ha838bed_2 ...\n",
            "installing: blosc-1.14.3-hdbcaa40_0 ...\n",
            "installing: glib-2.56.1-h000015b_0 ...\n",
            "installing: hdf5-1.10.2-hba1933b_1 ...\n",
            "installing: libedit-3.1.20170329-h6b74fdf_2 ...\n",
            "installing: libpng-1.6.34-hb9fc6fc_0 ...\n",
            "installing: libssh2-1.8.0-h9cfc8f7_4 ...\n",
            "installing: libtiff-4.0.9-he85c1e1_1 ...\n",
            "installing: libxml2-2.9.8-h26e45fe_1 ...\n",
            "installing: mpfr-3.1.5-h11a74b3_2 ...\n",
            "installing: pandoc-1.19.2.1-hea2e7c5_1 ...\n",
            "installing: readline-7.0-ha6073c6_4 ...\n",
            "installing: zeromq-4.2.5-h439df22_0 ...\n",
            "installing: dbus-1.13.2-h714fa37_1 ...\n",
            "installing: freetype-2.8-hab7d2ae_1 ...\n",
            "installing: gstreamer-1.14.0-hb453b48_1 ...\n",
            "installing: libcurl-7.60.0-h1ad7b7a_0 ...\n",
            "installing: libxslt-1.1.32-h1312cb7_0 ...\n",
            "installing: mpc-1.0.3-hec55b23_5 ...\n",
            "installing: sqlite-3.23.1-he433501_0 ...\n",
            "installing: curl-7.60.0-h84994c4_0 ...\n",
            "installing: fontconfig-2.12.6-h49f89f6_0 ...\n",
            "installing: gst-plugins-base-1.14.0-hbbd80ab_1 ...\n",
            "installing: alabaster-0.7.10-py36h306e16b_0 ...\n",
            "installing: asn1crypto-0.24.0-py36_0 ...\n",
            "installing: attrs-18.1.0-py36_0 ...\n",
            "installing: backcall-0.1.0-py36_0 ...\n",
            "installing: backports-1.0-py36hfa02d7e_1 ...\n",
            "installing: beautifulsoup4-4.6.0-py36h49b8c8c_1 ...\n",
            "installing: bitarray-0.8.1-py36h14c3975_1 ...\n",
            "installing: boto-2.48.0-py36h6e4cd66_1 ...\n",
            "installing: cairo-1.14.12-h7636065_2 ...\n",
            "installing: certifi-2018.4.16-py36_0 ...\n",
            "installing: chardet-3.0.4-py36h0f667ec_1 ...\n",
            "installing: click-6.7-py36h5253387_0 ...\n",
            "installing: cloudpickle-0.5.3-py36_0 ...\n",
            "installing: colorama-0.3.9-py36h489cec4_0 ...\n",
            "installing: contextlib2-0.5.5-py36h6c84a62_0 ...\n",
            "installing: dask-core-0.17.5-py36_0 ...\n",
            "installing: decorator-4.3.0-py36_0 ...\n",
            "installing: docutils-0.14-py36hb0f60f5_0 ...\n",
            "installing: entrypoints-0.2.3-py36h1aec115_2 ...\n",
            "installing: et_xmlfile-1.0.1-py36hd6bccc3_0 ...\n",
            "installing: fastcache-1.0.2-py36h14c3975_2 ...\n",
            "installing: filelock-3.0.4-py36_0 ...\n",
            "installing: glob2-0.6-py36he249c77_0 ...\n",
            "installing: gmpy2-2.0.8-py36hc8893dd_2 ...\n",
            "installing: greenlet-0.4.13-py36h14c3975_0 ...\n",
            "installing: heapdict-1.0.0-py36_2 ...\n",
            "installing: idna-2.6-py36h82fb2a8_1 ...\n",
            "installing: imagesize-1.0.0-py36_0 ...\n",
            "installing: ipython_genutils-0.2.0-py36hb52b0d5_0 ...\n",
            "installing: itsdangerous-0.24-py36h93cc618_1 ...\n",
            "installing: jdcal-1.4-py36_0 ...\n",
            "installing: kiwisolver-1.0.1-py36h764f252_0 ...\n",
            "installing: lazy-object-proxy-1.3.1-py36h10fcdad_0 ...\n",
            "installing: llvmlite-0.23.1-py36hdbcaa40_0 ...\n",
            "installing: locket-0.2.0-py36h787c0ad_1 ...\n",
            "installing: lxml-4.2.1-py36h23eabaa_0 ...\n",
            "installing: markupsafe-1.0-py36hd9260cd_1 ...\n",
            "installing: mccabe-0.6.1-py36h5ad9710_1 ...\n",
            "installing: mistune-0.8.3-py36h14c3975_1 ...\n",
            "installing: mkl-service-1.1.2-py36h17a0993_4 ...\n",
            "installing: mpmath-1.0.0-py36hfeacd6b_2 ...\n",
            "installing: msgpack-python-0.5.6-py36h6bb024c_0 ...\n",
            "installing: multipledispatch-0.5.0-py36_0 ...\n",
            "installing: numpy-base-1.14.3-py36h9be14a7_1 ...\n",
            "installing: olefile-0.45.1-py36_0 ...\n",
            "installing: pandocfilters-1.4.2-py36ha6701b7_1 ...\n",
            "installing: parso-0.2.0-py36_0 ...\n",
            "installing: path.py-11.0.1-py36_0 ...\n",
            "installing: pep8-1.7.1-py36_0 ...\n",
            "installing: pickleshare-0.7.4-py36h63277f8_0 ...\n",
            "installing: pkginfo-1.4.2-py36_1 ...\n",
            "installing: pluggy-0.6.0-py36hb689045_0 ...\n",
            "installing: ply-3.11-py36_0 ...\n",
            "installing: psutil-5.4.5-py36h14c3975_0 ...\n",
            "installing: ptyprocess-0.5.2-py36h69acd42_0 ...\n",
            "installing: py-1.5.3-py36_0 ...\n",
            "installing: pycodestyle-2.4.0-py36_0 ...\n",
            "installing: pycosat-0.6.3-py36h0a5515d_0 ...\n",
            "installing: pycparser-2.18-py36hf9f622e_1 ...\n",
            "installing: pycrypto-2.6.1-py36h14c3975_8 ...\n",
            "installing: pycurl-7.43.0.1-py36hb7f436b_0 ...\n",
            "installing: pyodbc-4.0.23-py36hf484d3e_0 ...\n",
            "installing: pyparsing-2.2.0-py36hee85983_1 ...\n",
            "installing: pysocks-1.6.8-py36_0 ...\n",
            "installing: pytz-2018.4-py36_0 ...\n",
            "installing: pyyaml-3.12-py36hafb9ca4_1 ...\n",
            "installing: pyzmq-17.0.0-py36h14c3975_0 ...\n",
            "installing: qt-5.9.5-h7e424d6_0 ...\n",
            "installing: qtpy-1.4.1-py36_0 ...\n",
            "installing: rope-0.10.7-py36h147e2ec_0 ...\n",
            "installing: ruamel_yaml-0.15.35-py36h14c3975_1 ...\n",
            "installing: send2trash-1.5.0-py36_0 ...\n",
            "installing: simplegeneric-0.8.1-py36_2 ...\n",
            "installing: sip-4.19.8-py36hf484d3e_0 ...\n",
            "installing: six-1.11.0-py36h372c433_1 ...\n",
            "installing: snowballstemmer-1.2.1-py36h6febd40_0 ...\n",
            "installing: sortedcontainers-1.5.10-py36_0 ...\n",
            "installing: sphinxcontrib-1.0-py36h6d0f590_1 ...\n",
            "installing: sqlalchemy-1.2.7-py36h6b74fdf_0 ...\n",
            "installing: tblib-1.3.2-py36h34cf8b6_0 ...\n",
            "installing: testpath-0.3.1-py36h8cadb63_0 ...\n",
            "installing: toolz-0.9.0-py36_0 ...\n",
            "installing: tornado-5.0.2-py36_0 ...\n",
            "installing: typing-3.6.4-py36_0 ...\n",
            "installing: unicodecsv-0.14.1-py36ha668878_0 ...\n",
            "installing: wcwidth-0.1.7-py36hdf4376a_0 ...\n",
            "installing: webencodings-0.5.1-py36h800622e_1 ...\n",
            "installing: werkzeug-0.14.1-py36_0 ...\n",
            "installing: wrapt-1.10.11-py36h28b7045_0 ...\n",
            "installing: xlrd-1.1.0-py36h1db9f0c_1 ...\n",
            "installing: xlsxwriter-1.0.4-py36_0 ...\n",
            "installing: xlwt-1.3.0-py36h7b00a1f_0 ...\n",
            "installing: babel-2.5.3-py36_0 ...\n",
            "installing: backports.shutil_get_terminal_size-1.0.0-py36hfea85ff_2 ...\n",
            "installing: cffi-1.11.5-py36h9745a5d_0 ...\n",
            "installing: conda-verify-2.0.0-py36h98955d8_0 ...\n",
            "installing: cycler-0.10.0-py36h93f1223_0 ...\n",
            "installing: cytoolz-0.9.0.1-py36h14c3975_0 ...\n",
            "installing: harfbuzz-1.7.6-h5f0a787_1 ...\n",
            "installing: html5lib-1.0.1-py36h2f9c1c0_0 ...\n",
            "installing: jedi-0.12.0-py36_1 ...\n",
            "installing: more-itertools-4.1.0-py36_0 ...\n",
            "installing: networkx-2.1-py36_0 ...\n",
            "installing: nltk-3.3.0-py36_0 ...\n",
            "installing: openpyxl-2.5.3-py36_0 ...\n",
            "installing: packaging-17.1-py36_0 ...\n",
            "installing: partd-0.3.8-py36h36fd896_0 ...\n",
            "installing: pathlib2-2.3.2-py36_0 ...\n",
            "installing: pexpect-4.5.0-py36_0 ...\n",
            "installing: pillow-5.1.0-py36h3deb7b8_0 ...\n",
            "installing: pyqt-5.9.2-py36h751905a_0 ...\n",
            "installing: python-dateutil-2.7.3-py36_0 ...\n",
            "installing: qtawesome-0.4.4-py36h609ed8c_0 ...\n",
            "installing: setuptools-39.1.0-py36_0 ...\n",
            "installing: singledispatch-3.4.0.3-py36h7a266c3_0 ...\n",
            "installing: sortedcollections-0.6.1-py36_0 ...\n",
            "installing: sphinxcontrib-websupport-1.0.1-py36hb5cb234_1 ...\n",
            "installing: sympy-1.1.1-py36hc6d1c1c_0 ...\n",
            "installing: terminado-0.8.1-py36_1 ...\n",
            "installing: traitlets-4.3.2-py36h674d592_0 ...\n",
            "installing: zict-0.1.3-py36h3a3bf81_0 ...\n",
            "installing: astroid-1.6.3-py36_0 ...\n",
            "installing: bleach-2.1.3-py36_0 ...\n",
            "installing: clyent-1.2.2-py36h7e57e65_1 ...\n",
            "installing: cryptography-2.2.2-py36h14c3975_0 ...\n",
            "installing: cython-0.28.2-py36h14c3975_0 ...\n",
            "installing: distributed-1.21.8-py36_0 ...\n",
            "installing: get_terminal_size-1.0.0-haa9412d_0 ...\n",
            "installing: gevent-1.3.0-py36h14c3975_0 ...\n",
            "installing: isort-4.3.4-py36_0 ...\n",
            "installing: jinja2-2.10-py36ha16c418_0 ...\n",
            "installing: jsonschema-2.6.0-py36h006f8b5_0 ...\n",
            "installing: jupyter_core-4.4.0-py36h7c827e3_0 ...\n",
            "installing: navigator-updater-0.2.1-py36_0 ...\n",
            "installing: nose-1.3.7-py36hcdf7029_2 ...\n",
            "installing: pango-1.41.0-hd475d92_0 ...\n",
            "installing: pyflakes-1.6.0-py36h7bd6a15_0 ...\n",
            "installing: pygments-2.2.0-py36h0d3125c_0 ...\n",
            "installing: pytest-3.5.1-py36_0 ...\n",
            "installing: wheel-0.31.1-py36_0 ...\n",
            "installing: flask-1.0.2-py36_1 ...\n",
            "installing: jupyter_client-5.2.3-py36_0 ...\n",
            "installing: nbformat-4.4.0-py36h31c9010_0 ...\n",
            "installing: pip-10.0.1-py36_0 ...\n",
            "installing: prompt_toolkit-1.0.15-py36h17d85b1_0 ...\n",
            "installing: pylint-1.8.4-py36_0 ...\n",
            "installing: pyopenssl-18.0.0-py36_0 ...\n",
            "installing: pytest-openfiles-0.3.0-py36_0 ...\n",
            "installing: pytest-remotedata-0.2.1-py36_0 ...\n",
            "installing: flask-cors-3.0.4-py36_0 ...\n",
            "installing: ipython-6.4.0-py36_0 ...\n",
            "installing: nbconvert-5.3.1-py36hb41ffb7_0 ...\n",
            "installing: urllib3-1.22-py36hbe7ace6_0 ...\n",
            "installing: ipykernel-4.8.2-py36_0 ...\n",
            "installing: requests-2.18.4-py36he2e5f8d_1 ...\n",
            "installing: anaconda-client-1.6.14-py36_0 ...\n",
            "installing: jupyter_console-5.2.0-py36he59e554_1 ...\n",
            "installing: notebook-5.5.0-py36_0 ...\n",
            "installing: qtconsole-4.3.1-py36h8f73b5b_0 ...\n",
            "installing: sphinx-1.7.4-py36_0 ...\n",
            "installing: anaconda-navigator-1.8.7-py36_0 ...\n",
            "installing: anaconda-project-0.8.2-py36h44fb852_0 ...\n",
            "installing: jupyterlab_launcher-0.10.5-py36_0 ...\n",
            "installing: numpydoc-0.8.0-py36_0 ...\n",
            "installing: widgetsnbextension-3.2.1-py36_0 ...\n",
            "installing: ipywidgets-7.2.1-py36_0 ...\n",
            "installing: jupyterlab-0.32.1-py36_0 ...\n",
            "installing: spyder-3.2.8-py36_0 ...\n",
            "installing: _ipyw_jlab_nb_ext_conf-0.1.0-py36he11e457_0 ...\n",
            "installing: jupyter-1.0.0-py36_4 ...\n",
            "installing: bokeh-0.12.16-py36_0 ...\n",
            "installing: bottleneck-1.2.1-py36haac1ea0_0 ...\n",
            "installing: conda-4.5.4-py36_0 ...\n",
            "installing: conda-build-3.10.5-py36_0 ...\n",
            "installing: datashape-0.5.4-py36h3ad6b5c_0 ...\n",
            "installing: h5py-2.7.1-py36ha1f6525_2 ...\n",
            "installing: imageio-2.3.0-py36_0 ...\n",
            "installing: matplotlib-2.2.2-py36h0e671d2_1 ...\n",
            "installing: mkl_fft-1.0.1-py36h3010b51_0 ...\n",
            "installing: mkl_random-1.0.1-py36h629b387_0 ...\n",
            "installing: numpy-1.14.3-py36hcd700cb_1 ...\n",
            "installing: numba-0.38.0-py36h637b7d7_0 ...\n",
            "installing: numexpr-2.6.5-py36h7bf3b9c_0 ...\n",
            "installing: pandas-0.23.0-py36h637b7d7_0 ...\n",
            "installing: pytest-arraydiff-0.2-py36_0 ...\n",
            "installing: pytest-doctestplus-0.1.3-py36_0 ...\n",
            "installing: pywavelets-0.5.2-py36he602eb0_0 ...\n",
            "installing: scipy-1.1.0-py36hfc37229_0 ...\n",
            "installing: bkcharts-0.2-py36h735825a_0 ...\n",
            "installing: dask-0.17.5-py36_0 ...\n",
            "installing: patsy-0.5.0-py36_0 ...\n",
            "installing: pytables-3.4.3-py36h02b9ad4_2 ...\n",
            "installing: pytest-astropy-0.3.0-py36_0 ...\n",
            "installing: scikit-learn-0.19.1-py36h7aa7ec6_0 ...\n",
            "installing: astropy-3.0.2-py36h3010b51_1 ...\n",
            "installing: odo-0.5.1-py36h90ed295_0 ...\n",
            "installing: scikit-image-0.13.1-py36h14c3975_1 ...\n",
            "installing: statsmodels-0.9.0-py36h3010b51_0 ...\n",
            "installing: blaze-0.11.3-py36h4e06776_0 ...\n",
            "installing: seaborn-0.8.1-py36hfad7ec4_0 ...\n",
            "installing: anaconda-5.2.0-py36_3 ...\n",
            "installation finished.\n",
            "WARNING:\n",
            "    You currently have a PYTHONPATH environment variable set. This may cause\n",
            "    unexpected behavior when running the Python interpreter in Anaconda3.\n",
            "    For best results, please verify that your PYTHONPATH only points to\n",
            "    directories of packages that are compatible with the Python interpreter\n",
            "    in Anaconda3: /usr/local\n",
            "Solving environment: ...working... failed\n",
            "\n",
            "# >>>>>>>>>>>>>>>>>>>>>> ERROR REPORT <<<<<<<<<<<<<<<<<<<<<<\n",
            "\n",
            "`$ /usr/local/bin/conda install -q -y --prefix /usr/local -c pytorch faiss-cpu`\n",
            "\n",
            "  environment variables:\n",
            "                 CIO_TEST=<not set>\n",
            "COLAB_DEBUG_ADAPTER_MUX_PATH=/usr/local/bin/dap_multiplexer\n",
            "COLAB_LANGUAGE_SERVER_PROXY=<set>\n",
            "               CONDA_ROOT=/usr/local\n",
            "          LD_LIBRARY_PATH=/usr/local/nvidia/lib:/usr/local/nvidia/lib64\n",
            "             LIBRARY_PATH=/usr/local/cuda/lib64/stubs\n",
            "                     PATH=/opt/bin:/usr/local/nvidia/bin:/usr/local/cuda/bin:/usr/local/sbin:/us\n",
            "                          r/local/bin:/usr/sbin:/usr/bin:/sbin:/bin:/tools/node/bin:/tools/googl\n",
            "                          e-cloud-sdk/bin\n",
            "               PYTHONPATH=/env/python\n",
            "           PYTHONWARNINGS=ignore:::pip._internal.cli.base_command\n",
            "       REQUESTS_CA_BUNDLE=<not set>\n",
            "            SSL_CERT_FILE=<not set>\n",
            "               TCLLIBPATH=/usr/share/tcltk/tcllib1.20\n",
            "\n",
            "     active environment : None\n",
            "       user config file : /root/.condarc\n",
            " populated config files : \n",
            "          conda version : 4.5.4\n",
            "    conda-build version : 3.10.5\n",
            "         python version : 3.6.5.final.0\n",
            "       base environment : /usr/local  (writable)\n",
            "           channel URLs : https://conda.anaconda.org/pytorch/linux-64\n",
            "                          https://conda.anaconda.org/pytorch/noarch\n",
            "                          https://repo.anaconda.com/pkgs/main/linux-64\n",
            "                          https://repo.anaconda.com/pkgs/main/noarch\n",
            "                          https://repo.anaconda.com/pkgs/free/linux-64\n",
            "                          https://repo.anaconda.com/pkgs/free/noarch\n",
            "                          https://repo.anaconda.com/pkgs/r/linux-64\n",
            "                          https://repo.anaconda.com/pkgs/r/noarch\n",
            "                          https://repo.anaconda.com/pkgs/pro/linux-64\n",
            "                          https://repo.anaconda.com/pkgs/pro/noarch\n",
            "          package cache : /usr/local/pkgs\n",
            "                          /root/.conda/pkgs\n",
            "       envs directories : /usr/local/envs\n",
            "                          /root/.conda/envs\n",
            "               platform : linux-64\n",
            "             user-agent : conda/4.5.4 requests/2.18.4 CPython/3.6.5 Linux/6.1.85+ ubuntu/22.04 glibc/2.35\n",
            "                UID:GID : 0:0\n",
            "             netrc file : None\n",
            "           offline mode : False\n",
            "\n",
            "\n",
            "V V V V V V V V V V V V V V V V V V V V V V V V V V V V V V V\n",
            "\n",
            "CondaHTTPError: HTTP 000 CONNECTION FAILED for url <https://conda.anaconda.org/pytorch/noarch/repodata.json>\n",
            "Elapsed: -\n",
            "\n",
            "An HTTP error occurred when trying to retrieve this URL.\n",
            "HTTP errors are often intermittent, and a simple retry will get you on your way.\n",
            "SSLError(MaxRetryError('HTTPSConnectionPool(host=\\'conda.anaconda.org\\', port=443): Max retries exceeded with url: /pytorch/noarch/repodata.json (Caused by SSLError(SSLError(\"bad handshake: Error([(\\'SSL routines\\', \\'ssl3_get_server_certificate\\', \\'certificate verify failed\\')],)\",),))',),)\n",
            "\n",
            "A reportable application error has occurred. Conda has prepared the above report.\n",
            "Upload successful.\n"
          ]
        }
      ]
    },
    {
      "cell_type": "code",
      "source": [
        "!pip install --upgrade pip"
      ],
      "metadata": {
        "colab": {
          "base_uri": "https://localhost:8080/"
        },
        "id": "wo-qEMM3OgDL",
        "outputId": "add4a69c-a165-4a09-850a-963a45832ea2"
      },
      "execution_count": 18,
      "outputs": [
        {
          "output_type": "stream",
          "name": "stdout",
          "text": [
            "Collecting pip\n",
            "\u001b[?25l  Downloading https://files.pythonhosted.org/packages/a4/6d/6463d49a933f547439d6b5b98b46af8742cc03ae83543e4d7688c2420f8b/pip-21.3.1-py3-none-any.whl (1.7MB)\n",
            "\u001b[K    100% |████████████████████████████████| 1.7MB 12.7MB/s \n",
            "\u001b[31mdistributed 1.21.8 requires msgpack, which is not installed.\u001b[0m\n",
            "\u001b[?25hInstalling collected packages: pip\n",
            "  Found existing installation: pip 10.0.1\n",
            "    Uninstalling pip-10.0.1:\n",
            "      Successfully uninstalled pip-10.0.1\n",
            "Successfully installed pip-21.3.1\n"
          ]
        }
      ]
    },
    {
      "cell_type": "code",
      "source": [
        "cd faiss"
      ],
      "metadata": {
        "colab": {
          "base_uri": "https://localhost:8080/"
        },
        "id": "VW7-qYtsSaLT",
        "outputId": "91ac090d-794a-4f1b-ad6a-dc3f35a2a48e"
      },
      "execution_count": 27,
      "outputs": [
        {
          "output_type": "stream",
          "name": "stdout",
          "text": [
            "/content/faiss\n"
          ]
        }
      ]
    },
    {
      "cell_type": "code",
      "source": [
        "import faiss"
      ],
      "metadata": {
        "id": "UfhhkfjXSc-e"
      },
      "execution_count": 30,
      "outputs": []
    },
    {
      "cell_type": "code",
      "source": [
        "faiss"
      ],
      "metadata": {
        "colab": {
          "base_uri": "https://localhost:8080/"
        },
        "id": "jrpzTsE1SdFw",
        "outputId": "68044e36-8a7b-4157-c479-0f63f6e35b90"
      },
      "execution_count": 31,
      "outputs": [
        {
          "output_type": "execute_result",
          "data": {
            "text/plain": [
              "<module 'faiss' (<_frozen_importlib_external._NamespaceLoader object at 0x7db728fdfa30>)>"
            ]
          },
          "metadata": {},
          "execution_count": 31
        }
      ]
    },
    {
      "cell_type": "code",
      "source": [
        "# Existing Magics"
      ],
      "metadata": {
        "id": "2TWe9rgCsY4c"
      },
      "execution_count": 51,
      "outputs": []
    },
    {
      "cell_type": "code",
      "source": [
        "%%html\n",
        "<h1>Heading 1</h1>"
      ],
      "metadata": {
        "colab": {
          "base_uri": "https://localhost:8080/",
          "height": 74
        },
        "id": "gOPH2UQEskKm",
        "outputId": "07444fd5-67c7-4917-cf87-7eaa7333c78e"
      },
      "execution_count": 52,
      "outputs": [
        {
          "output_type": "display_data",
          "data": {
            "text/plain": [
              "<IPython.core.display.HTML object>"
            ],
            "text/html": [
              "<h1>Heading 1</h1>\n"
            ]
          },
          "metadata": {}
        }
      ]
    },
    {
      "cell_type": "code",
      "source": [
        "%load_ext rpy2.ipython"
      ],
      "metadata": {
        "colab": {
          "base_uri": "https://localhost:8080/"
        },
        "id": "35Lj1IoMsm8s",
        "outputId": "4bc7de0e-658b-4b72-fb1d-6a7c4c3c626c"
      },
      "execution_count": 53,
      "outputs": [
        {
          "output_type": "stream",
          "name": "stdout",
          "text": [
            "No Bottleneck unit testing available.\n"
          ]
        },
        {
          "output_type": "stream",
          "name": "stderr",
          "text": [
            "/usr/local/lib/python3.10/dist-packages/pandas/core/arrays/masked.py:62: UserWarning: Pandas requires version '1.3.4' or newer of 'bottleneck' (version '1.2.1' currently installed).\n",
            "  from pandas.core import (\n"
          ]
        }
      ]
    },
    {
      "cell_type": "code",
      "source": [
        "%%R\n",
        "x <- 42\n",
        "print(x)"
      ],
      "metadata": {
        "colab": {
          "base_uri": "https://localhost:8080/"
        },
        "id": "q9kBu-AWsokz",
        "outputId": "0cb9c48c-acb0-4c40-d289-071f4619b9ab"
      },
      "execution_count": 54,
      "outputs": [
        {
          "output_type": "stream",
          "name": "stdout",
          "text": [
            "[1] 42\n"
          ]
        }
      ]
    },
    {
      "cell_type": "code",
      "source": [
        "# New Magic\n"
      ],
      "metadata": {
        "id": "0esI8urHsucT"
      },
      "execution_count": 55,
      "outputs": []
    },
    {
      "cell_type": "code",
      "source": [
        "import re\n",
        "from IPython.display import HTML\n",
        "from IPython.core.magic import register_cell_magic"
      ],
      "metadata": {
        "id": "zomrP4QSszhd"
      },
      "execution_count": 56,
      "outputs": []
    },
    {
      "cell_type": "code",
      "source": [
        "def var_sub(m):\n",
        "  v = globals()[m[1]]\n",
        "  if type(v) != str:\n",
        "    v = repr(v)\n",
        "  return v"
      ],
      "metadata": {
        "id": "8dLeuRJHs1Sm"
      },
      "execution_count": 57,
      "outputs": []
    },
    {
      "cell_type": "code",
      "source": [
        "@register_cell_magic\n",
        "def javascript(line=\"\", cell=\"\"):\n",
        "  # var sub\n",
        "  cell = re.sub(r'\\{\\{(\\w+)+}}', var_sub, cell)\n",
        "\n",
        "  m = re.match(r'\\w+', line)\n",
        "  if m:                       # assign to a variable\n",
        "    globals()[m[0]] = cell\n",
        "  else:                       # normal display\n",
        "    display(HTML(\"\"\"\n",
        "<div id=\"drawing\"></div>\n",
        "<script src=\"https://cdnjs.cloudflare.com/ajax/libs/svg.js/2.6.5/svg.js\"></script>\n",
        "<script>\n",
        "var draw = SVG('drawing').size('100%', 100)\n",
        "var y_cursor_pos = 0\n",
        "function print(x){\n",
        "  draw.text(x.toString()).move(400, y_cursor_pos)\n",
        "  y_cursor_pos += 20\n",
        "}\n",
        "\n",
        "text = s=> draw.text(s).font('anchor', 'middle')\n",
        "line = (x1,y1, x2,y2)=> draw.line(x1,y1, x2, y2).stroke({width: 1})\n",
        "max = Math.max\n",
        "\"\"\" + cell))"
      ],
      "metadata": {
        "id": "pm33q3Xfs2xK"
      },
      "execution_count": 58,
      "outputs": []
    },
    {
      "cell_type": "code",
      "source": [
        "%%javascript\n",
        "\n",
        "draw.rect(100, 100)"
      ],
      "metadata": {
        "colab": {
          "base_uri": "https://localhost:8080/",
          "height": 121
        },
        "id": "eKMrA9RUs5Nl",
        "outputId": "9381b278-b9ca-4df7-ac14-67a8f2f76d78"
      },
      "execution_count": 59,
      "outputs": [
        {
          "output_type": "display_data",
          "data": {
            "text/plain": [
              "<IPython.core.display.HTML object>"
            ],
            "text/html": [
              "\n",
              "<div id=\"drawing\"></div>\n",
              "<script src=\"https://cdnjs.cloudflare.com/ajax/libs/svg.js/2.6.5/svg.js\"></script>\n",
              "<script>\n",
              "var draw = SVG('drawing').size('100%', 100)\n",
              "var y_cursor_pos = 0\n",
              "function print(x){\n",
              "  draw.text(x.toString()).move(400, y_cursor_pos)\n",
              "  y_cursor_pos += 20\n",
              "}\n",
              "\n",
              "text = s=> draw.text(s).font('anchor', 'middle')\n",
              "line = (x1,y1, x2,y2)=> draw.line(x1,y1, x2, y2).stroke({width: 1})\n",
              "max = Math.max\n",
              "\n",
              "draw.rect(100, 100)\n"
            ]
          },
          "metadata": {}
        }
      ]
    },
    {
      "cell_type": "code",
      "source": [
        "# Elasticsearch magic"
      ],
      "metadata": {
        "id": "aL837mN_s6yr"
      },
      "execution_count": 60,
      "outputs": []
    },
    {
      "cell_type": "code",
      "source": [
        "# install\n",
        "!wget https://artifacts.elastic.co/downloads/elasticsearch/elasticsearch-7.0.0-linux-x86_64.tar.gz -q\n",
        "!tar -xzf elasticsearch-7.0.0-linux-x86_64.tar.gz\n",
        "!chown -R daemon:daemon elasticsearch-7.0.0"
      ],
      "metadata": {
        "id": "2rve1qX6s-Y5"
      },
      "execution_count": 61,
      "outputs": []
    },
    {
      "cell_type": "code",
      "source": [
        "# start server\n",
        "import os\n",
        "from subprocess import Popen, PIPE, STDOUT\n",
        "es_server = Popen(['elasticsearch-7.0.0/bin/elasticsearch'],\n",
        "                  stdout=PIPE, stderr=STDOUT,\n",
        "                  preexec_fn=lambda: os.setuid(1)  # as daemon\n",
        "                 )"
      ],
      "metadata": {
        "id": "yYO5P7VltAfi"
      },
      "execution_count": 74,
      "outputs": []
    },
    {
      "cell_type": "code",
      "source": [
        "!curl -X GET \"localhost:9200/\""
      ],
      "metadata": {
        "colab": {
          "base_uri": "https://localhost:8080/"
        },
        "id": "57a6zeqptlAG",
        "outputId": "dd921d00-85ba-4df6-9c78-b7107926f183"
      },
      "execution_count": 83,
      "outputs": [
        {
          "output_type": "stream",
          "name": "stdout",
          "text": [
            "{\n",
            "  \"name\" : \"0166748a258b\",\n",
            "  \"cluster_name\" : \"elasticsearch\",\n",
            "  \"cluster_uuid\" : \"lqJvc1P_TrK_XEF9M54N9g\",\n",
            "  \"version\" : {\n",
            "    \"number\" : \"7.0.0\",\n",
            "    \"build_flavor\" : \"default\",\n",
            "    \"build_type\" : \"tar\",\n",
            "    \"build_hash\" : \"b7e28a7\",\n",
            "    \"build_date\" : \"2019-04-05T22:55:32.697037Z\",\n",
            "    \"build_snapshot\" : false,\n",
            "    \"lucene_version\" : \"8.0.0\",\n",
            "    \"minimum_wire_compatibility_version\" : \"6.7.0\",\n",
            "    \"minimum_index_compatibility_version\" : \"6.0.0-beta1\"\n",
            "  },\n",
            "  \"tagline\" : \"You Know, for Search\"\n",
            "}\n"
          ]
        }
      ]
    },
    {
      "cell_type": "code",
      "source": [
        "from requests import models, Session, Request\n",
        "from urllib.parse import urljoin\n",
        "from IPython.core.magic import register_cell_magic\n",
        "import re\n",
        "\n",
        "# to display json response\n",
        "def render(r):\n",
        "  text = r.text\n",
        "  if text[0] in \"[{\":  # really json\n",
        "    return \"\"\"\n",
        "    <script src=\"https://rawgit.com/caldwell/renderjson/master/renderjson.js\"></script>\n",
        "    <script>\n",
        "    renderjson.set_show_to_level(1)\n",
        "    document.body.appendChild(renderjson(%s))\n",
        "    new ResizeObserver(google.colab.output.resizeIframeToContent).observe(document.body)\n",
        "    </script>\n",
        "    \"\"\" % text\n",
        "  else:    # other status text\n",
        "    return \"<pre>%s</pre>\" % text\n",
        "models.Response._repr_html_ = render"
      ],
      "metadata": {
        "id": "xgqePbrCt2DB"
      },
      "execution_count": 85,
      "outputs": []
    },
    {
      "cell_type": "markdown",
      "source": [],
      "metadata": {
        "id": "XIZAt2HBuX56"
      }
    },
    {
      "cell_type": "code",
      "metadata": {
        "id": "ZjOVo3QOs1f7"
      },
      "source": [
        "# %%es magic\n",
        "@register_cell_magic\n",
        "def es(line=None, cell=\"\"):\n",
        "  cell = re.sub(r'(?m)^\\s*#.*\\n?','', cell) # remove comment\n",
        "  line1 = (cell + '\\n').find('\\n')\n",
        "  method, path = cell[:line1].split(None, 1)\n",
        "  body = cell[line1:].strip()\n",
        "  args = {}\n",
        "  if body:\n",
        "    args['data'] = (body + '\\n').encode()  # in case _bulk\n",
        "    args['headers'] = {'Content-Type': 'application/json'}\n",
        "\n",
        "  rsp = Session().send(\n",
        "          Request(method, urljoin('http://localhost:9200', path), **args)\n",
        "            .prepare())\n",
        "  return rsp"
      ],
      "execution_count": 87,
      "outputs": []
    },
    {
      "cell_type": "code",
      "metadata": {
        "id": "xWjaYenSs-rx",
        "colab": {
          "base_uri": "https://localhost:8080/",
          "height": 139
        },
        "outputId": "6d45cd8e-ebf8-49cf-f391-3bd89f6115fa"
      },
      "source": [
        "%%es\n",
        "GET /"
      ],
      "execution_count": 88,
      "outputs": [
        {
          "output_type": "execute_result",
          "data": {
            "text/plain": [
              "<Response [200]>"
            ],
            "text/html": [
              "\n",
              "    <script src=\"https://rawgit.com/caldwell/renderjson/master/renderjson.js\"></script>\n",
              "    <script>\n",
              "    renderjson.set_show_to_level(1)\n",
              "    document.body.appendChild(renderjson({\n",
              "  \"name\" : \"0166748a258b\",\n",
              "  \"cluster_name\" : \"elasticsearch\",\n",
              "  \"cluster_uuid\" : \"lqJvc1P_TrK_XEF9M54N9g\",\n",
              "  \"version\" : {\n",
              "    \"number\" : \"7.0.0\",\n",
              "    \"build_flavor\" : \"default\",\n",
              "    \"build_type\" : \"tar\",\n",
              "    \"build_hash\" : \"b7e28a7\",\n",
              "    \"build_date\" : \"2019-04-05T22:55:32.697037Z\",\n",
              "    \"build_snapshot\" : false,\n",
              "    \"lucene_version\" : \"8.0.0\",\n",
              "    \"minimum_wire_compatibility_version\" : \"6.7.0\",\n",
              "    \"minimum_index_compatibility_version\" : \"6.0.0-beta1\"\n",
              "  },\n",
              "  \"tagline\" : \"You Know, for Search\"\n",
              "}\n",
              "))\n",
              "    new ResizeObserver(google.colab.output.resizeIframeToContent).observe(document.body)\n",
              "    </script>\n",
              "    "
            ]
          },
          "metadata": {},
          "execution_count": 88
        }
      ]
    },
    {
      "cell_type": "code",
      "source": [
        "%%es\n",
        "PUT /customer/_doc/1\n",
        "{\n",
        "  \"name\": \"John Doe\"\n",
        "}"
      ],
      "metadata": {
        "colab": {
          "base_uri": "https://localhost:8080/",
          "height": 191
        },
        "id": "Yn1VrhgvurB2",
        "outputId": "680f6bad-4e9d-47b4-bc42-508aa9ca482c"
      },
      "execution_count": 89,
      "outputs": [
        {
          "output_type": "execute_result",
          "data": {
            "text/plain": [
              "<Response [201]>"
            ],
            "text/html": [
              "\n",
              "    <script src=\"https://rawgit.com/caldwell/renderjson/master/renderjson.js\"></script>\n",
              "    <script>\n",
              "    renderjson.set_show_to_level(1)\n",
              "    document.body.appendChild(renderjson({\"_index\":\"customer\",\"_type\":\"_doc\",\"_id\":\"1\",\"_version\":1,\"result\":\"created\",\"_shards\":{\"total\":2,\"successful\":1,\"failed\":0},\"_seq_no\":0,\"_primary_term\":1}))\n",
              "    new ResizeObserver(google.colab.output.resizeIframeToContent).observe(document.body)\n",
              "    </script>\n",
              "    "
            ]
          },
          "metadata": {},
          "execution_count": 89
        }
      ]
    },
    {
      "cell_type": "code",
      "source": [
        "%%es\n",
        "PUT customer/_doc/2\n",
        "{\n",
        "  \"name\": \"John Smith\"\n",
        "}"
      ],
      "metadata": {
        "colab": {
          "base_uri": "https://localhost:8080/",
          "height": 191
        },
        "id": "rIlCAbI7uubC",
        "outputId": "d83fb2d9-51b4-47e7-b4e6-5b231bb5bc44"
      },
      "execution_count": 90,
      "outputs": [
        {
          "output_type": "execute_result",
          "data": {
            "text/plain": [
              "<Response [201]>"
            ],
            "text/html": [
              "\n",
              "    <script src=\"https://rawgit.com/caldwell/renderjson/master/renderjson.js\"></script>\n",
              "    <script>\n",
              "    renderjson.set_show_to_level(1)\n",
              "    document.body.appendChild(renderjson({\"_index\":\"customer\",\"_type\":\"_doc\",\"_id\":\"2\",\"_version\":1,\"result\":\"created\",\"_shards\":{\"total\":2,\"successful\":1,\"failed\":0},\"_seq_no\":1,\"_primary_term\":1}))\n",
              "    new ResizeObserver(google.colab.output.resizeIframeToContent).observe(document.body)\n",
              "    </script>\n",
              "    "
            ]
          },
          "metadata": {},
          "execution_count": 90
        }
      ]
    },
    {
      "cell_type": "code",
      "source": [
        "#Python Calls JS"
      ],
      "metadata": {
        "id": "-v1NkAB2uzW8"
      },
      "execution_count": 91,
      "outputs": []
    },
    {
      "cell_type": "code",
      "source": [
        "%%html\n",
        "<script>\n",
        "document.body.append(document.createTextNode(\"Hello\"))\n",
        "</script>"
      ],
      "metadata": {
        "colab": {
          "base_uri": "https://localhost:8080/",
          "height": 34
        },
        "id": "l-tZFOSku1Rs",
        "outputId": "e44a5b67-6f18-4339-e8e5-2b745172fe93"
      },
      "execution_count": 92,
      "outputs": [
        {
          "output_type": "display_data",
          "data": {
            "text/plain": [
              "<IPython.core.display.HTML object>"
            ],
            "text/html": [
              "<script>\n",
              "document.body.append(document.createTextNode(\"Hello\"))\n",
              "</script>\n"
            ]
          },
          "metadata": {}
        }
      ]
    },
    {
      "cell_type": "code",
      "source": [
        "from IPython.display import Javascript\n",
        "Javascript('document.body.append(document.createTextNode(\"Hello\"))')"
      ],
      "metadata": {
        "colab": {
          "base_uri": "https://localhost:8080/",
          "height": 34
        },
        "id": "ONmjGlDGvCiy",
        "outputId": "9e4c91df-86f1-4c82-8659-8f697ec6b955"
      },
      "execution_count": 93,
      "outputs": [
        {
          "output_type": "execute_result",
          "data": {
            "text/plain": [
              "<IPython.core.display.Javascript object>"
            ],
            "application/javascript": [
              "document.body.append(document.createTextNode(\"Hello\"))"
            ]
          },
          "metadata": {},
          "execution_count": 93
        }
      ]
    },
    {
      "cell_type": "code",
      "metadata": {
        "id": "e6RhNzptzOm9",
        "colab": {
          "base_uri": "https://localhost:8080/",
          "height": 35
        },
        "outputId": "c5dda674-95b2-4eb8-a591-7b5e7414a43b"
      },
      "source": [
        "from google.colab.output import eval_js\n",
        "eval_js('1+1')"
      ],
      "execution_count": 94,
      "outputs": [
        {
          "output_type": "execute_result",
          "data": {
            "text/plain": [
              "2"
            ]
          },
          "metadata": {},
          "execution_count": 94
        }
      ]
    },
    {
      "cell_type": "code",
      "source": [
        "# JS Calls Python"
      ],
      "metadata": {
        "id": "ETHg-iwtvIlh"
      },
      "execution_count": 95,
      "outputs": []
    },
    {
      "cell_type": "code",
      "source": [
        "from IPython.display import JSON\n",
        "import IPython.display as idisplay\n",
        "from google.colab import output\n",
        "\n",
        "def concat(a, b):\n",
        "  return JSON({'result': '%s %s' % (a, b)})\n",
        "\n",
        "output.register_callback('notebook.concat', concat)"
      ],
      "metadata": {
        "id": "PBwacegQvKPQ"
      },
      "execution_count": 97,
      "outputs": []
    },
    {
      "cell_type": "code",
      "source": [
        "idisplay.Javascript('''\n",
        "(async function() {\n",
        "\n",
        "  const result = await google.colab.kernel.invokeFunction(\n",
        "    'notebook.concat',\n",
        "    ['hello', 'world!'],\n",
        "    {});\n",
        "\n",
        "  const text = result.data['application/json'].result;\n",
        "\n",
        "  document.querySelector(\"#output-area\").appendChild(document.createTextNode(text))\n",
        "\n",
        "})();\n",
        "''')"
      ],
      "metadata": {
        "colab": {
          "base_uri": "https://localhost:8080/",
          "height": 34
        },
        "id": "Icm2JzbTvPL5",
        "outputId": "7b3f9c75-371c-49e0-c8bd-c0e01474f786"
      },
      "execution_count": 98,
      "outputs": [
        {
          "output_type": "execute_result",
          "data": {
            "text/plain": [
              "<IPython.core.display.Javascript object>"
            ],
            "application/javascript": [
              "\n",
              "(async function() {\n",
              "\n",
              "  const result = await google.colab.kernel.invokeFunction(\n",
              "    'notebook.concat',  \n",
              "    ['hello', 'world!'],\n",
              "    {});\n",
              "    \n",
              "  const text = result.data['application/json'].result;\n",
              "  \n",
              "  document.querySelector(\"#output-area\").appendChild(document.createTextNode(text))\n",
              "  \n",
              "})();\n"
            ]
          },
          "metadata": {},
          "execution_count": 98
        }
      ]
    },
    {
      "cell_type": "code",
      "source": [
        "# Take a photo"
      ],
      "metadata": {
        "id": "fapL63UfvRHP"
      },
      "execution_count": 99,
      "outputs": []
    },
    {
      "cell_type": "code",
      "metadata": {
        "id": "bi6Ff1zx2fh6"
      },
      "source": [
        "from IPython.display import HTML, Image\n",
        "from google.colab.output import eval_js\n",
        "from base64 import b64decode"
      ],
      "execution_count": 100,
      "outputs": []
    },
    {
      "cell_type": "code",
      "source": [
        "VIDEO_HTML = \"\"\"\n",
        "<video autoplay\n",
        " width=800 height=600></video>\n",
        "<script>\n",
        "var video = document.querySelector('video')\n",
        "navigator.mediaDevices.getUserMedia({ video: true })\n",
        "  .then(stream=> video.srcObject = stream)\n",
        "\n",
        "var data = new Promise(resolve=>{\n",
        "  video.onclick = ()=>{\n",
        "    var canvas = document.createElement('canvas')\n",
        "    var [w,h] = [video.offsetWidth, video.offsetHeight]\n",
        "    canvas.width = w\n",
        "    canvas.height = h\n",
        "    canvas.getContext('2d')\n",
        "          .drawImage(video, 0, 0, w, h)\n",
        "    video.srcObject.getVideoTracks()[0].stop()\n",
        "    video.replaceWith(canvas)\n",
        "    resolve(canvas.toDataURL('image/jpeg', %f))\n",
        "  }\n",
        "})\n",
        "</script>\n",
        "\"\"\""
      ],
      "metadata": {
        "id": "zY6VqzKOvXJX"
      },
      "execution_count": 101,
      "outputs": []
    },
    {
      "cell_type": "code",
      "source": [
        "def take_photo(filename='photo.jpg', quality=0.8):\n",
        "  display(HTML(VIDEO_HTML % quality))\n",
        "  data = eval_js(\"data\")\n",
        "  binary = b64decode(data.split(',')[1])\n",
        "  with open(filename, 'wb') as f:\n",
        "    f.write(binary)\n",
        "  return len(binary)"
      ],
      "metadata": {
        "id": "wLsffx2WvbMy"
      },
      "execution_count": 102,
      "outputs": []
    },
    {
      "cell_type": "code",
      "source": [
        "take_photo()"
      ],
      "metadata": {
        "colab": {
          "base_uri": "https://localhost:8080/",
          "height": 639
        },
        "id": "n8UCEW1lvc1M",
        "outputId": "03adae80-03e5-45d1-8f82-7d650116ced8"
      },
      "execution_count": 104,
      "outputs": [
        {
          "output_type": "display_data",
          "data": {
            "text/plain": [
              "<IPython.core.display.HTML object>"
            ],
            "text/html": [
              "\n",
              "<video autoplay\n",
              " width=800 height=600></video>\n",
              "<script>\n",
              "var video = document.querySelector('video')\n",
              "navigator.mediaDevices.getUserMedia({ video: true })\n",
              "  .then(stream=> video.srcObject = stream)\n",
              "  \n",
              "var data = new Promise(resolve=>{\n",
              "  video.onclick = ()=>{\n",
              "    var canvas = document.createElement('canvas')\n",
              "    var [w,h] = [video.offsetWidth, video.offsetHeight]\n",
              "    canvas.width = w\n",
              "    canvas.height = h\n",
              "    canvas.getContext('2d')\n",
              "          .drawImage(video, 0, 0, w, h)\n",
              "    video.srcObject.getVideoTracks()[0].stop()\n",
              "    video.replaceWith(canvas)\n",
              "    resolve(canvas.toDataURL('image/jpeg', 0.800000))\n",
              "  }\n",
              "})\n",
              "</script>\n"
            ]
          },
          "metadata": {}
        },
        {
          "output_type": "execute_result",
          "data": {
            "text/plain": [
              "41726"
            ]
          },
          "metadata": {},
          "execution_count": 104
        }
      ]
    }
  ]
}